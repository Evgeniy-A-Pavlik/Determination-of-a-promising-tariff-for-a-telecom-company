{
  "cells": [
    {
      "cell_type": "code",
      "execution_count": null,
      "metadata": {
        "cellId": "jdvarx8gtodio7hcqpdcw",
        "id": "RHhzW9ZFuuy_",
        "outputId": "3039d0fa-0c91-4c73-c494-7df383b83470"
      },
      "outputs": [
        {
          "name": "stdout",
          "output_type": "stream",
          "text": [
            "\u001b[33mWARNING: You are using pip version 21.0.1; however, version 21.3.1 is available.\n",
            "You should consider upgrading via the '/usr/local/bin/python3 -m pip install --upgrade pip' command.\u001b[0m\n"
          ]
        }
      ],
      "source": [
        "#%pip install -q -r requirements.txt"
      ]
    },
    {
      "cell_type": "markdown",
      "metadata": {
        "cellId": "yk67m097sgmuwqn8odwlnc",
        "id": "N3gLB6_cuuy_"
      },
      "source": [
        "# Определение перспективного тарифа для телеком-компании"
      ]
    },
    {
      "cell_type": "markdown",
      "metadata": {
        "cellId": "v5eoxbj02r9q1814bx924",
        "id": "2d6fEsLyuuzJ"
      },
      "source": [
        "## Описание данных\n",
        "Таблица **users** (информация о пользователях):\n",
        "\n",
        "- `user_id` — уникальный идентификатор пользователя\n",
        "- `first_name` — имя пользователя\n",
        "- `last_name` — фамилия пользователя\n",
        "- `age` — возраст пользователя (годы)\n",
        "- `reg_date` — дата подключения тарифа (день, месяц, год)\n",
        "- `churn_date` — дата прекращения пользования тарифом (если значение пропущено, то тариф ещё действовал на момент выгрузки данных)\n",
        "- `city` — город проживания пользователя\n",
        "- `tarif` — название тарифного плана\n",
        "\n",
        "Таблица **calls** (информация о звонках):\n",
        "\n",
        "- `id` — уникальный номер звонка\n",
        "- `call_date` — дата звонка\n",
        "- `duration` — длительность звонка в минутах\n",
        "- `user_id` — идентификатор пользователя, сделавшего звонок\n",
        "\n",
        "Таблица **messages** (информация о сообщениях):\n",
        "\n",
        "- `id` — уникальный номер сообщения\n",
        "- `message_date` — дата сообщения\n",
        "- `user_id` — идентификатор пользователя, отправившего сообщение\n",
        "\n",
        "Таблица **internet** (информация об интернет-сессиях):\n",
        "\n",
        "- `id` — уникальный номер сессии\n",
        "- `mb_used` — объём потраченного за сессию интернет-трафика (в мегабайтах)\n",
        "- `session_date` — дата интернет-сессии\n",
        "- `user_id` — идентификатор пользователя\n",
        "\n",
        "Таблица **tariffs** (информация о тарифах):\n",
        "\n",
        "- `tariff_name` — название тарифа\n",
        "- `rub_monthly_fee` — ежемесячная абонентская плата в рублях\n",
        "- `minutes_included` — количество минут разговора в месяц, включённых в абонентскую плату\n",
        "- `messages_included` — количество сообщений в месяц, включённых в абонентскую плату\n",
        "- `mb_per_month_included` — объём интернет-трафика, включённого в абонентскую плату (в мегабайтах)\n",
        "- `rub_per_minute` — стоимость минуты разговора сверх тарифного пакета (например, если в тарифе 100 минут разговора в месяц, то со 101 минуты будет взиматься плата)\n",
        "- `rub_per_message` — стоимость отправки сообщения сверх тарифного пакета\n",
        "- `rub_per_gb` — стоимость дополнительного гигабайта интернет-трафика сверх тарифного пакета (1 гигабайт = 1024 мегабайта)"
      ]
    },
    {
      "cell_type": "markdown",
      "metadata": {
        "cellId": "alt5twayqor4bvajd0bwpe",
        "id": "Wn5WYUzpuuzJ"
      },
      "source": [
        "## 1. Изучение данных"
      ]
    },
    {
      "cell_type": "code",
      "execution_count": null,
      "metadata": {
        "cellId": "2woysrehfn5j37wgjo4ri",
        "id": "4FoCK6tKuuzJ"
      },
      "outputs": [],
      "source": [
        "import pandas as pd\n",
        "import numpy as np\n",
        "import matplotlib.pyplot as plt\n",
        "from scipy import stats as st"
      ]
    },
    {
      "cell_type": "markdown",
      "metadata": {
        "cellId": "a6imbgirbv740j1urf0sps",
        "id": "xbuODpfEuuzJ"
      },
      "source": [
        "Откроем и изучим таблицу **calls**"
      ]
    },
    {
      "cell_type": "code",
      "execution_count": null,
      "metadata": {
        "cellId": "po7bbjx8ugoh3toad8ey4a",
        "id": "49kKQHTIuuzJ",
        "outputId": "767786db-62bc-4b37-d689-70efedb9fdc6"
      },
      "outputs": [
        {
          "data": {
            "text/html": [
              "<div>\n",
              "<style scoped>\n",
              "    .dataframe tbody tr th:only-of-type {\n",
              "        vertical-align: middle;\n",
              "    }\n",
              "\n",
              "    .dataframe tbody tr th {\n",
              "        vertical-align: top;\n",
              "    }\n",
              "\n",
              "    .dataframe thead th {\n",
              "        text-align: right;\n",
              "    }\n",
              "</style>\n",
              "<table border=\"1\" class=\"dataframe\">\n",
              "  <thead>\n",
              "    <tr style=\"text-align: right;\">\n",
              "      <th></th>\n",
              "      <th>id</th>\n",
              "      <th>call_date</th>\n",
              "      <th>duration</th>\n",
              "      <th>user_id</th>\n",
              "    </tr>\n",
              "  </thead>\n",
              "  <tbody>\n",
              "    <tr>\n",
              "      <td>0</td>\n",
              "      <td>1000_0</td>\n",
              "      <td>2018-07-25</td>\n",
              "      <td>0.00</td>\n",
              "      <td>1000</td>\n",
              "    </tr>\n",
              "    <tr>\n",
              "      <td>1</td>\n",
              "      <td>1000_1</td>\n",
              "      <td>2018-08-17</td>\n",
              "      <td>0.00</td>\n",
              "      <td>1000</td>\n",
              "    </tr>\n",
              "    <tr>\n",
              "      <td>2</td>\n",
              "      <td>1000_2</td>\n",
              "      <td>2018-06-11</td>\n",
              "      <td>2.85</td>\n",
              "      <td>1000</td>\n",
              "    </tr>\n",
              "    <tr>\n",
              "      <td>3</td>\n",
              "      <td>1000_3</td>\n",
              "      <td>2018-09-21</td>\n",
              "      <td>13.80</td>\n",
              "      <td>1000</td>\n",
              "    </tr>\n",
              "    <tr>\n",
              "      <td>4</td>\n",
              "      <td>1000_4</td>\n",
              "      <td>2018-12-15</td>\n",
              "      <td>5.18</td>\n",
              "      <td>1000</td>\n",
              "    </tr>\n",
              "  </tbody>\n",
              "</table>\n",
              "</div>"
            ],
            "text/plain": [
              "       id   call_date  duration  user_id\n",
              "0  1000_0  2018-07-25      0.00     1000\n",
              "1  1000_1  2018-08-17      0.00     1000\n",
              "2  1000_2  2018-06-11      2.85     1000\n",
              "3  1000_3  2018-09-21     13.80     1000\n",
              "4  1000_4  2018-12-15      5.18     1000"
            ]
          },
          "metadata": {},
          "output_type": "display_data"
        },
        {
          "data": {
            "text/html": [
              "<div>\n",
              "<style scoped>\n",
              "    .dataframe tbody tr th:only-of-type {\n",
              "        vertical-align: middle;\n",
              "    }\n",
              "\n",
              "    .dataframe tbody tr th {\n",
              "        vertical-align: top;\n",
              "    }\n",
              "\n",
              "    .dataframe thead th {\n",
              "        text-align: right;\n",
              "    }\n",
              "</style>\n",
              "<table border=\"1\" class=\"dataframe\">\n",
              "  <thead>\n",
              "    <tr style=\"text-align: right;\">\n",
              "      <th></th>\n",
              "      <th>duration</th>\n",
              "      <th>user_id</th>\n",
              "    </tr>\n",
              "  </thead>\n",
              "  <tbody>\n",
              "    <tr>\n",
              "      <td>count</td>\n",
              "      <td>202607.000000</td>\n",
              "      <td>202607.000000</td>\n",
              "    </tr>\n",
              "    <tr>\n",
              "      <td>mean</td>\n",
              "      <td>6.755887</td>\n",
              "      <td>1253.940619</td>\n",
              "    </tr>\n",
              "    <tr>\n",
              "      <td>std</td>\n",
              "      <td>5.843365</td>\n",
              "      <td>144.722751</td>\n",
              "    </tr>\n",
              "    <tr>\n",
              "      <td>min</td>\n",
              "      <td>0.000000</td>\n",
              "      <td>1000.000000</td>\n",
              "    </tr>\n",
              "    <tr>\n",
              "      <td>25%</td>\n",
              "      <td>1.300000</td>\n",
              "      <td>1126.000000</td>\n",
              "    </tr>\n",
              "    <tr>\n",
              "      <td>50%</td>\n",
              "      <td>6.000000</td>\n",
              "      <td>1260.000000</td>\n",
              "    </tr>\n",
              "    <tr>\n",
              "      <td>75%</td>\n",
              "      <td>10.700000</td>\n",
              "      <td>1379.000000</td>\n",
              "    </tr>\n",
              "    <tr>\n",
              "      <td>max</td>\n",
              "      <td>38.000000</td>\n",
              "      <td>1499.000000</td>\n",
              "    </tr>\n",
              "  </tbody>\n",
              "</table>\n",
              "</div>"
            ],
            "text/plain": [
              "            duration        user_id\n",
              "count  202607.000000  202607.000000\n",
              "mean        6.755887    1253.940619\n",
              "std         5.843365     144.722751\n",
              "min         0.000000    1000.000000\n",
              "25%         1.300000    1126.000000\n",
              "50%         6.000000    1260.000000\n",
              "75%        10.700000    1379.000000\n",
              "max        38.000000    1499.000000"
            ]
          },
          "metadata": {},
          "output_type": "display_data"
        },
        {
          "name": "stdout",
          "output_type": "stream",
          "text": [
            "<class 'pandas.core.frame.DataFrame'>\n",
            "RangeIndex: 202607 entries, 0 to 202606\n",
            "Data columns (total 4 columns):\n",
            "id           202607 non-null object\n",
            "call_date    202607 non-null object\n",
            "duration     202607 non-null float64\n",
            "user_id      202607 non-null int64\n",
            "dtypes: float64(1), int64(1), object(2)\n",
            "memory usage: 6.2+ MB\n",
            "Количество дубликатов: 0\n"
          ]
        }
      ],
      "source": [
        "df_calls = pd.read_csv('/datasets/calls.csv')\n",
        "display(df_calls.head())\n",
        "df_calls.info()\n",
        "display(df_calls.describe())\n",
        "print('Количество дубликатов:', df_calls.duplicated().sum())"
      ]
    },
    {
      "cell_type": "markdown",
      "metadata": {
        "cellId": "j716va6ocw8q2v4or170s",
        "id": "gOXn7ThYuuzT"
      },
      "source": [
        "Откроем и изучим таблицу **internet**\n"
      ]
    },
    {
      "cell_type": "code",
      "execution_count": null,
      "metadata": {
        "cellId": "32e1897li35rwbbcrgjdkr",
        "id": "685ttUjeuuzT",
        "outputId": "4a52bedf-9f18-41d2-aa82-5a12d8fdd619"
      },
      "outputs": [
        {
          "data": {
            "text/html": [
              "<div>\n",
              "<style scoped>\n",
              "    .dataframe tbody tr th:only-of-type {\n",
              "        vertical-align: middle;\n",
              "    }\n",
              "\n",
              "    .dataframe tbody tr th {\n",
              "        vertical-align: top;\n",
              "    }\n",
              "\n",
              "    .dataframe thead th {\n",
              "        text-align: right;\n",
              "    }\n",
              "</style>\n",
              "<table border=\"1\" class=\"dataframe\">\n",
              "  <thead>\n",
              "    <tr style=\"text-align: right;\">\n",
              "      <th></th>\n",
              "      <th>id</th>\n",
              "      <th>mb_used</th>\n",
              "      <th>session_date</th>\n",
              "      <th>user_id</th>\n",
              "    </tr>\n",
              "  </thead>\n",
              "  <tbody>\n",
              "    <tr>\n",
              "      <td>0</td>\n",
              "      <td>1000_0</td>\n",
              "      <td>112.95</td>\n",
              "      <td>2018-11-25</td>\n",
              "      <td>1000</td>\n",
              "    </tr>\n",
              "    <tr>\n",
              "      <td>1</td>\n",
              "      <td>1000_1</td>\n",
              "      <td>1052.81</td>\n",
              "      <td>2018-09-07</td>\n",
              "      <td>1000</td>\n",
              "    </tr>\n",
              "    <tr>\n",
              "      <td>2</td>\n",
              "      <td>1000_2</td>\n",
              "      <td>1197.26</td>\n",
              "      <td>2018-06-25</td>\n",
              "      <td>1000</td>\n",
              "    </tr>\n",
              "    <tr>\n",
              "      <td>3</td>\n",
              "      <td>1000_3</td>\n",
              "      <td>550.27</td>\n",
              "      <td>2018-08-22</td>\n",
              "      <td>1000</td>\n",
              "    </tr>\n",
              "    <tr>\n",
              "      <td>4</td>\n",
              "      <td>1000_4</td>\n",
              "      <td>302.56</td>\n",
              "      <td>2018-09-24</td>\n",
              "      <td>1000</td>\n",
              "    </tr>\n",
              "  </tbody>\n",
              "</table>\n",
              "</div>"
            ],
            "text/plain": [
              "       id  mb_used session_date  user_id\n",
              "0  1000_0   112.95   2018-11-25     1000\n",
              "1  1000_1  1052.81   2018-09-07     1000\n",
              "2  1000_2  1197.26   2018-06-25     1000\n",
              "3  1000_3   550.27   2018-08-22     1000\n",
              "4  1000_4   302.56   2018-09-24     1000"
            ]
          },
          "metadata": {},
          "output_type": "display_data"
        },
        {
          "name": "stdout",
          "output_type": "stream",
          "text": [
            "<class 'pandas.core.frame.DataFrame'>\n",
            "Int64Index: 149396 entries, 0 to 149395\n",
            "Data columns (total 4 columns):\n",
            "id              149396 non-null object\n",
            "mb_used         149396 non-null float64\n",
            "session_date    149396 non-null object\n",
            "user_id         149396 non-null int64\n",
            "dtypes: float64(1), int64(1), object(2)\n",
            "memory usage: 5.7+ MB\n"
          ]
        },
        {
          "data": {
            "text/html": [
              "<div>\n",
              "<style scoped>\n",
              "    .dataframe tbody tr th:only-of-type {\n",
              "        vertical-align: middle;\n",
              "    }\n",
              "\n",
              "    .dataframe tbody tr th {\n",
              "        vertical-align: top;\n",
              "    }\n",
              "\n",
              "    .dataframe thead th {\n",
              "        text-align: right;\n",
              "    }\n",
              "</style>\n",
              "<table border=\"1\" class=\"dataframe\">\n",
              "  <thead>\n",
              "    <tr style=\"text-align: right;\">\n",
              "      <th></th>\n",
              "      <th>mb_used</th>\n",
              "      <th>user_id</th>\n",
              "    </tr>\n",
              "  </thead>\n",
              "  <tbody>\n",
              "    <tr>\n",
              "      <td>count</td>\n",
              "      <td>149396.000000</td>\n",
              "      <td>149396.000000</td>\n",
              "    </tr>\n",
              "    <tr>\n",
              "      <td>mean</td>\n",
              "      <td>370.192426</td>\n",
              "      <td>1252.099842</td>\n",
              "    </tr>\n",
              "    <tr>\n",
              "      <td>std</td>\n",
              "      <td>278.300951</td>\n",
              "      <td>144.050823</td>\n",
              "    </tr>\n",
              "    <tr>\n",
              "      <td>min</td>\n",
              "      <td>0.000000</td>\n",
              "      <td>1000.000000</td>\n",
              "    </tr>\n",
              "    <tr>\n",
              "      <td>25%</td>\n",
              "      <td>138.187500</td>\n",
              "      <td>1130.000000</td>\n",
              "    </tr>\n",
              "    <tr>\n",
              "      <td>50%</td>\n",
              "      <td>348.015000</td>\n",
              "      <td>1251.000000</td>\n",
              "    </tr>\n",
              "    <tr>\n",
              "      <td>75%</td>\n",
              "      <td>559.552500</td>\n",
              "      <td>1380.000000</td>\n",
              "    </tr>\n",
              "    <tr>\n",
              "      <td>max</td>\n",
              "      <td>1724.830000</td>\n",
              "      <td>1499.000000</td>\n",
              "    </tr>\n",
              "  </tbody>\n",
              "</table>\n",
              "</div>"
            ],
            "text/plain": [
              "             mb_used        user_id\n",
              "count  149396.000000  149396.000000\n",
              "mean      370.192426    1252.099842\n",
              "std       278.300951     144.050823\n",
              "min         0.000000    1000.000000\n",
              "25%       138.187500    1130.000000\n",
              "50%       348.015000    1251.000000\n",
              "75%       559.552500    1380.000000\n",
              "max      1724.830000    1499.000000"
            ]
          },
          "metadata": {},
          "output_type": "display_data"
        },
        {
          "name": "stdout",
          "output_type": "stream",
          "text": [
            "Количество дубликатов: 0\n"
          ]
        }
      ],
      "source": [
        "df_internet = pd.read_csv('/datasets/internet.csv', index_col=0)\n",
        "display(df_internet.head())\n",
        "df_internet.info()\n",
        "display(df_internet.describe())\n",
        "print('Количество дубликатов:', df_internet.duplicated().sum())"
      ]
    },
    {
      "cell_type": "markdown",
      "metadata": {
        "cellId": "fr9h16zcykc9i57dbpn7l",
        "id": "k9B0j15IuuzT"
      },
      "source": [
        "Откроем и изучим таблицу **messages**"
      ]
    },
    {
      "cell_type": "code",
      "execution_count": null,
      "metadata": {
        "cellId": "suu7qszwa5ucizrxvyen9",
        "id": "NQ4JbQa4uuzT",
        "outputId": "cd5214aa-e995-46b9-f967-5721d885b3ac"
      },
      "outputs": [
        {
          "data": {
            "text/html": [
              "<div>\n",
              "<style scoped>\n",
              "    .dataframe tbody tr th:only-of-type {\n",
              "        vertical-align: middle;\n",
              "    }\n",
              "\n",
              "    .dataframe tbody tr th {\n",
              "        vertical-align: top;\n",
              "    }\n",
              "\n",
              "    .dataframe thead th {\n",
              "        text-align: right;\n",
              "    }\n",
              "</style>\n",
              "<table border=\"1\" class=\"dataframe\">\n",
              "  <thead>\n",
              "    <tr style=\"text-align: right;\">\n",
              "      <th></th>\n",
              "      <th>id</th>\n",
              "      <th>message_date</th>\n",
              "      <th>user_id</th>\n",
              "    </tr>\n",
              "  </thead>\n",
              "  <tbody>\n",
              "    <tr>\n",
              "      <td>0</td>\n",
              "      <td>1000_0</td>\n",
              "      <td>2018-06-27</td>\n",
              "      <td>1000</td>\n",
              "    </tr>\n",
              "    <tr>\n",
              "      <td>1</td>\n",
              "      <td>1000_1</td>\n",
              "      <td>2018-10-08</td>\n",
              "      <td>1000</td>\n",
              "    </tr>\n",
              "    <tr>\n",
              "      <td>2</td>\n",
              "      <td>1000_2</td>\n",
              "      <td>2018-08-04</td>\n",
              "      <td>1000</td>\n",
              "    </tr>\n",
              "    <tr>\n",
              "      <td>3</td>\n",
              "      <td>1000_3</td>\n",
              "      <td>2018-06-16</td>\n",
              "      <td>1000</td>\n",
              "    </tr>\n",
              "    <tr>\n",
              "      <td>4</td>\n",
              "      <td>1000_4</td>\n",
              "      <td>2018-12-05</td>\n",
              "      <td>1000</td>\n",
              "    </tr>\n",
              "  </tbody>\n",
              "</table>\n",
              "</div>"
            ],
            "text/plain": [
              "       id message_date  user_id\n",
              "0  1000_0   2018-06-27     1000\n",
              "1  1000_1   2018-10-08     1000\n",
              "2  1000_2   2018-08-04     1000\n",
              "3  1000_3   2018-06-16     1000\n",
              "4  1000_4   2018-12-05     1000"
            ]
          },
          "metadata": {},
          "output_type": "display_data"
        },
        {
          "name": "stdout",
          "output_type": "stream",
          "text": [
            "<class 'pandas.core.frame.DataFrame'>\n",
            "RangeIndex: 123036 entries, 0 to 123035\n",
            "Data columns (total 3 columns):\n",
            "id              123036 non-null object\n",
            "message_date    123036 non-null object\n",
            "user_id         123036 non-null int64\n",
            "dtypes: int64(1), object(2)\n",
            "memory usage: 2.8+ MB\n",
            "Количество дубликатов: 0\n"
          ]
        }
      ],
      "source": [
        "df_messages = pd.read_csv('/datasets/messages.csv')\n",
        "display(df_messages.head())\n",
        "df_messages.info()\n",
        "print('Количество дубликатов:', df_messages.duplicated().sum())"
      ]
    },
    {
      "cell_type": "markdown",
      "metadata": {
        "cellId": "hond0edxhof7yly4ay2vv",
        "id": "YgDsRB45uuzd"
      },
      "source": [
        "Откроем и изучим таблицу **tariffs**"
      ]
    },
    {
      "cell_type": "code",
      "execution_count": null,
      "metadata": {
        "cellId": "83pvlfqld08v4evesr8o1l",
        "id": "aJuIl4o0uuzd",
        "outputId": "074c083d-d0ba-43d3-a8ae-2db4a384b882"
      },
      "outputs": [
        {
          "data": {
            "text/html": [
              "<div>\n",
              "<style scoped>\n",
              "    .dataframe tbody tr th:only-of-type {\n",
              "        vertical-align: middle;\n",
              "    }\n",
              "\n",
              "    .dataframe tbody tr th {\n",
              "        vertical-align: top;\n",
              "    }\n",
              "\n",
              "    .dataframe thead th {\n",
              "        text-align: right;\n",
              "    }\n",
              "</style>\n",
              "<table border=\"1\" class=\"dataframe\">\n",
              "  <thead>\n",
              "    <tr style=\"text-align: right;\">\n",
              "      <th></th>\n",
              "      <th>messages_included</th>\n",
              "      <th>mb_per_month_included</th>\n",
              "      <th>minutes_included</th>\n",
              "      <th>rub_monthly_fee</th>\n",
              "      <th>rub_per_gb</th>\n",
              "      <th>rub_per_message</th>\n",
              "      <th>rub_per_minute</th>\n",
              "      <th>tariff_name</th>\n",
              "    </tr>\n",
              "  </thead>\n",
              "  <tbody>\n",
              "    <tr>\n",
              "      <td>0</td>\n",
              "      <td>50</td>\n",
              "      <td>15360</td>\n",
              "      <td>500</td>\n",
              "      <td>550</td>\n",
              "      <td>200</td>\n",
              "      <td>3</td>\n",
              "      <td>3</td>\n",
              "      <td>smart</td>\n",
              "    </tr>\n",
              "    <tr>\n",
              "      <td>1</td>\n",
              "      <td>1000</td>\n",
              "      <td>30720</td>\n",
              "      <td>3000</td>\n",
              "      <td>1950</td>\n",
              "      <td>150</td>\n",
              "      <td>1</td>\n",
              "      <td>1</td>\n",
              "      <td>ultra</td>\n",
              "    </tr>\n",
              "  </tbody>\n",
              "</table>\n",
              "</div>"
            ],
            "text/plain": [
              "   messages_included  mb_per_month_included  minutes_included  \\\n",
              "0                 50                  15360               500   \n",
              "1               1000                  30720              3000   \n",
              "\n",
              "   rub_monthly_fee  rub_per_gb  rub_per_message  rub_per_minute tariff_name  \n",
              "0              550         200                3               3       smart  \n",
              "1             1950         150                1               1       ultra  "
            ]
          },
          "metadata": {},
          "output_type": "display_data"
        },
        {
          "name": "stdout",
          "output_type": "stream",
          "text": [
            "<class 'pandas.core.frame.DataFrame'>\n",
            "RangeIndex: 2 entries, 0 to 1\n",
            "Data columns (total 8 columns):\n",
            "messages_included        2 non-null int64\n",
            "mb_per_month_included    2 non-null int64\n",
            "minutes_included         2 non-null int64\n",
            "rub_monthly_fee          2 non-null int64\n",
            "rub_per_gb               2 non-null int64\n",
            "rub_per_message          2 non-null int64\n",
            "rub_per_minute           2 non-null int64\n",
            "tariff_name              2 non-null object\n",
            "dtypes: int64(7), object(1)\n",
            "memory usage: 256.0+ bytes\n"
          ]
        }
      ],
      "source": [
        "df_tariffs = pd.read_csv('/datasets/tariffs.csv')\n",
        "display(df_tariffs.head())\n",
        "df_tariffs.info()"
      ]
    },
    {
      "cell_type": "code",
      "execution_count": null,
      "metadata": {
        "cellId": "vodx87xk41hh9ap5jga4h",
        "id": "AgwgqtKduuzd",
        "outputId": "4e5adcff-3d75-442d-981d-458cecf2a461"
      },
      "outputs": [
        {
          "data": {
            "text/html": [
              "<div>\n",
              "<style scoped>\n",
              "    .dataframe tbody tr th:only-of-type {\n",
              "        vertical-align: middle;\n",
              "    }\n",
              "\n",
              "    .dataframe tbody tr th {\n",
              "        vertical-align: top;\n",
              "    }\n",
              "\n",
              "    .dataframe thead th {\n",
              "        text-align: right;\n",
              "    }\n",
              "</style>\n",
              "<table border=\"1\" class=\"dataframe\">\n",
              "  <thead>\n",
              "    <tr style=\"text-align: right;\">\n",
              "      <th></th>\n",
              "      <th>messages_included</th>\n",
              "      <th>mb_per_month_included</th>\n",
              "      <th>minutes_included</th>\n",
              "      <th>rub_monthly_fee</th>\n",
              "      <th>rub_per_gb</th>\n",
              "      <th>rub_per_message</th>\n",
              "      <th>rub_per_minute</th>\n",
              "    </tr>\n",
              "    <tr>\n",
              "      <th>tariff_name</th>\n",
              "      <th></th>\n",
              "      <th></th>\n",
              "      <th></th>\n",
              "      <th></th>\n",
              "      <th></th>\n",
              "      <th></th>\n",
              "      <th></th>\n",
              "    </tr>\n",
              "  </thead>\n",
              "  <tbody>\n",
              "    <tr>\n",
              "      <td>smart</td>\n",
              "      <td>50</td>\n",
              "      <td>15360</td>\n",
              "      <td>500</td>\n",
              "      <td>550</td>\n",
              "      <td>200</td>\n",
              "      <td>3</td>\n",
              "      <td>3</td>\n",
              "    </tr>\n",
              "    <tr>\n",
              "      <td>ultra</td>\n",
              "      <td>1000</td>\n",
              "      <td>30720</td>\n",
              "      <td>3000</td>\n",
              "      <td>1950</td>\n",
              "      <td>150</td>\n",
              "      <td>1</td>\n",
              "      <td>1</td>\n",
              "    </tr>\n",
              "  </tbody>\n",
              "</table>\n",
              "</div>"
            ],
            "text/plain": [
              "             messages_included  mb_per_month_included  minutes_included  \\\n",
              "tariff_name                                                               \n",
              "smart                       50                  15360               500   \n",
              "ultra                     1000                  30720              3000   \n",
              "\n",
              "             rub_monthly_fee  rub_per_gb  rub_per_message  rub_per_minute  \n",
              "tariff_name                                                                \n",
              "smart                    550         200                3               3  \n",
              "ultra                   1950         150                1               1  "
            ]
          },
          "metadata": {},
          "output_type": "display_data"
        }
      ],
      "source": [
        "df_tariffs = df_tariffs.set_index('/datasets/tariff_name')\n",
        "df_tariffs"
      ]
    },
    {
      "cell_type": "markdown",
      "metadata": {
        "cellId": "y4jtonsii4xt1awljthtc",
        "id": "PwXHGks5uuzd"
      },
      "source": [
        "Откроем и изучим таблицу **users**"
      ]
    },
    {
      "cell_type": "code",
      "execution_count": null,
      "metadata": {
        "cellId": "ouirmpkyy15eyrp37ip9k",
        "id": "5bxVDje1uuzd",
        "outputId": "a73bb4ec-a3e5-4dfb-88cb-1034d7026985"
      },
      "outputs": [
        {
          "data": {
            "text/html": [
              "<div>\n",
              "<style scoped>\n",
              "    .dataframe tbody tr th:only-of-type {\n",
              "        vertical-align: middle;\n",
              "    }\n",
              "\n",
              "    .dataframe tbody tr th {\n",
              "        vertical-align: top;\n",
              "    }\n",
              "\n",
              "    .dataframe thead th {\n",
              "        text-align: right;\n",
              "    }\n",
              "</style>\n",
              "<table border=\"1\" class=\"dataframe\">\n",
              "  <thead>\n",
              "    <tr style=\"text-align: right;\">\n",
              "      <th></th>\n",
              "      <th>user_id</th>\n",
              "      <th>age</th>\n",
              "      <th>churn_date</th>\n",
              "      <th>city</th>\n",
              "      <th>first_name</th>\n",
              "      <th>last_name</th>\n",
              "      <th>reg_date</th>\n",
              "      <th>tariff</th>\n",
              "    </tr>\n",
              "  </thead>\n",
              "  <tbody>\n",
              "    <tr>\n",
              "      <td>0</td>\n",
              "      <td>1000</td>\n",
              "      <td>52</td>\n",
              "      <td>NaN</td>\n",
              "      <td>Краснодар</td>\n",
              "      <td>Рафаил</td>\n",
              "      <td>Верещагин</td>\n",
              "      <td>2018-05-25</td>\n",
              "      <td>ultra</td>\n",
              "    </tr>\n",
              "    <tr>\n",
              "      <td>1</td>\n",
              "      <td>1001</td>\n",
              "      <td>41</td>\n",
              "      <td>NaN</td>\n",
              "      <td>Москва</td>\n",
              "      <td>Иван</td>\n",
              "      <td>Ежов</td>\n",
              "      <td>2018-11-01</td>\n",
              "      <td>smart</td>\n",
              "    </tr>\n",
              "    <tr>\n",
              "      <td>2</td>\n",
              "      <td>1002</td>\n",
              "      <td>59</td>\n",
              "      <td>NaN</td>\n",
              "      <td>Стерлитамак</td>\n",
              "      <td>Евгений</td>\n",
              "      <td>Абрамович</td>\n",
              "      <td>2018-06-17</td>\n",
              "      <td>smart</td>\n",
              "    </tr>\n",
              "    <tr>\n",
              "      <td>3</td>\n",
              "      <td>1003</td>\n",
              "      <td>23</td>\n",
              "      <td>NaN</td>\n",
              "      <td>Москва</td>\n",
              "      <td>Белла</td>\n",
              "      <td>Белякова</td>\n",
              "      <td>2018-08-17</td>\n",
              "      <td>ultra</td>\n",
              "    </tr>\n",
              "    <tr>\n",
              "      <td>4</td>\n",
              "      <td>1004</td>\n",
              "      <td>68</td>\n",
              "      <td>NaN</td>\n",
              "      <td>Новокузнецк</td>\n",
              "      <td>Татьяна</td>\n",
              "      <td>Авдеенко</td>\n",
              "      <td>2018-05-14</td>\n",
              "      <td>ultra</td>\n",
              "    </tr>\n",
              "  </tbody>\n",
              "</table>\n",
              "</div>"
            ],
            "text/plain": [
              "   user_id  age churn_date         city first_name  last_name    reg_date  \\\n",
              "0     1000   52        NaN    Краснодар     Рафаил  Верещагин  2018-05-25   \n",
              "1     1001   41        NaN       Москва       Иван       Ежов  2018-11-01   \n",
              "2     1002   59        NaN  Стерлитамак    Евгений  Абрамович  2018-06-17   \n",
              "3     1003   23        NaN       Москва      Белла   Белякова  2018-08-17   \n",
              "4     1004   68        NaN  Новокузнецк    Татьяна   Авдеенко  2018-05-14   \n",
              "\n",
              "  tariff  \n",
              "0  ultra  \n",
              "1  smart  \n",
              "2  smart  \n",
              "3  ultra  \n",
              "4  ultra  "
            ]
          },
          "metadata": {},
          "output_type": "display_data"
        },
        {
          "data": {
            "text/html": [
              "<div>\n",
              "<style scoped>\n",
              "    .dataframe tbody tr th:only-of-type {\n",
              "        vertical-align: middle;\n",
              "    }\n",
              "\n",
              "    .dataframe tbody tr th {\n",
              "        vertical-align: top;\n",
              "    }\n",
              "\n",
              "    .dataframe thead th {\n",
              "        text-align: right;\n",
              "    }\n",
              "</style>\n",
              "<table border=\"1\" class=\"dataframe\">\n",
              "  <thead>\n",
              "    <tr style=\"text-align: right;\">\n",
              "      <th></th>\n",
              "      <th>user_id</th>\n",
              "      <th>age</th>\n",
              "    </tr>\n",
              "  </thead>\n",
              "  <tbody>\n",
              "    <tr>\n",
              "      <td>count</td>\n",
              "      <td>500.000000</td>\n",
              "      <td>500.00000</td>\n",
              "    </tr>\n",
              "    <tr>\n",
              "      <td>mean</td>\n",
              "      <td>1249.500000</td>\n",
              "      <td>46.58800</td>\n",
              "    </tr>\n",
              "    <tr>\n",
              "      <td>std</td>\n",
              "      <td>144.481833</td>\n",
              "      <td>16.66763</td>\n",
              "    </tr>\n",
              "    <tr>\n",
              "      <td>min</td>\n",
              "      <td>1000.000000</td>\n",
              "      <td>18.00000</td>\n",
              "    </tr>\n",
              "    <tr>\n",
              "      <td>25%</td>\n",
              "      <td>1124.750000</td>\n",
              "      <td>32.00000</td>\n",
              "    </tr>\n",
              "    <tr>\n",
              "      <td>50%</td>\n",
              "      <td>1249.500000</td>\n",
              "      <td>46.00000</td>\n",
              "    </tr>\n",
              "    <tr>\n",
              "      <td>75%</td>\n",
              "      <td>1374.250000</td>\n",
              "      <td>62.00000</td>\n",
              "    </tr>\n",
              "    <tr>\n",
              "      <td>max</td>\n",
              "      <td>1499.000000</td>\n",
              "      <td>75.00000</td>\n",
              "    </tr>\n",
              "  </tbody>\n",
              "</table>\n",
              "</div>"
            ],
            "text/plain": [
              "           user_id        age\n",
              "count   500.000000  500.00000\n",
              "mean   1249.500000   46.58800\n",
              "std     144.481833   16.66763\n",
              "min    1000.000000   18.00000\n",
              "25%    1124.750000   32.00000\n",
              "50%    1249.500000   46.00000\n",
              "75%    1374.250000   62.00000\n",
              "max    1499.000000   75.00000"
            ]
          },
          "metadata": {},
          "output_type": "display_data"
        },
        {
          "name": "stdout",
          "output_type": "stream",
          "text": [
            "<class 'pandas.core.frame.DataFrame'>\n",
            "RangeIndex: 500 entries, 0 to 499\n",
            "Data columns (total 8 columns):\n",
            "user_id       500 non-null int64\n",
            "age           500 non-null int64\n",
            "churn_date    38 non-null object\n",
            "city          500 non-null object\n",
            "first_name    500 non-null object\n",
            "last_name     500 non-null object\n",
            "reg_date      500 non-null object\n",
            "tariff        500 non-null object\n",
            "dtypes: int64(2), object(6)\n",
            "memory usage: 31.4+ KB\n",
            "Количество дубликатов: 0\n"
          ]
        }
      ],
      "source": [
        "df_users = pd.read_csv('/datasets/users.csv')\n",
        "display(df_users.head())\n",
        "df_users.info()\n",
        "display(df_users.describe())\n",
        "print('Количество дубликатов:', df_users.duplicated().sum())"
      ]
    },
    {
      "cell_type": "code",
      "execution_count": null,
      "metadata": {
        "cellId": "zkidmzstfgde0l3chuuqy7",
        "id": "CEDfkw1euuzd",
        "outputId": "bb027cf7-4f3e-4122-c664-640b9c2a73a2"
      },
      "outputs": [
        {
          "data": {
            "text/plain": [
              "array(['Краснодар', 'Москва', 'Стерлитамак', 'Новокузнецк',\n",
              "       'Набережные Челны', 'Ульяновск', 'Челябинск', 'Пермь', 'Тюмень',\n",
              "       'Самара', 'Санкт-Петербург', 'Иваново', 'Чебоксары', 'Омск', 'Уфа',\n",
              "       'Томск', 'Чита', 'Мурманск', 'Петрозаводск', 'Тверь',\n",
              "       'Екатеринбург', 'Махачкала', 'Вологда', 'Череповец', 'Ярославль',\n",
              "       'Сочи', 'Хабаровск', 'Ставрополь', 'Рязань', 'Улан-Удэ', 'Тула',\n",
              "       'Саратов', 'Ростов-на-Дону', 'Казань', 'Иркутск', 'Курск',\n",
              "       'Калуга', 'Якутск', 'Астрахань', 'Химки', 'Владикавказ',\n",
              "       'Волгоград', 'Саранск', 'Ижевск', 'Новосибирск', 'Брянск',\n",
              "       'Тольятти', 'Нижний Тагил', 'Орёл', 'Белгород', 'Воронеж',\n",
              "       'Волжский', 'Курган', 'Барнаул', 'Красноярск', 'Архангельск',\n",
              "       'Липецк', 'Кемерово', 'Киров', 'Сургут', 'Пенза', 'Магнитогорск',\n",
              "       'Нижний Новгород', 'Кострома', 'Владивосток', 'Тамбов', 'Балашиха',\n",
              "       'Севастополь', 'Калининград', 'Оренбург', 'Смоленск',\n",
              "       'Нижневартовск', 'Владимир', 'Новороссийск', 'Грозный', 'Подольск'],\n",
              "      dtype=object)"
            ]
          },
          "metadata": {},
          "output_type": "display_data"
        }
      ],
      "source": [
        "df_users['city'].unique()"
      ]
    },
    {
      "cell_type": "markdown",
      "metadata": {
        "cellId": "408c2q9dmwc8f0p4y64b0k",
        "id": "1mKIRzgquuzd"
      },
      "source": [
        "Данные в таблицах корректны, дубликатов нет, столбцы с датами следует привести к типу данных \"datetime\""
      ]
    },
    {
      "cell_type": "markdown",
      "metadata": {
        "cellId": "vqdps7h7absbw5z62wiei",
        "id": "keSQjJoauuzo"
      },
      "source": [
        "## 2. Подготовка данных"
      ]
    },
    {
      "cell_type": "markdown",
      "metadata": {
        "cellId": "cescqmd7i9boltk3afdtt",
        "id": "W0DHCRPduuzp"
      },
      "source": [
        "### Приведение данных к нужным типам"
      ]
    },
    {
      "cell_type": "markdown",
      "metadata": {
        "cellId": "1dwie7dvs23am4ilwdg0om",
        "id": "jn96VIE-uuzp"
      },
      "source": [
        "Приведем столбцы с датой к типу \"datetime\""
      ]
    },
    {
      "cell_type": "code",
      "execution_count": null,
      "metadata": {
        "cellId": "aw2a3cmhvcblwddeodwo98",
        "id": "BCNmtALvuuzp"
      },
      "outputs": [],
      "source": [
        "df_calls['call_date'] = pd.to_datetime(df_calls['call_date'], format=\"%Y-%m-%d\")\n",
        "df_internet['session_date'] = pd.to_datetime(df_internet['session_date'], format=\"%Y-%m-%d\")\n",
        "df_messages['message_date'] = pd.to_datetime(df_messages['message_date'], format=\"%Y-%m-%d\")\n",
        "df_users['reg_date'] = pd.to_datetime(df_users['reg_date'], format=\"%Y-%m-%d\")\n",
        "df_users['churn_date'] = pd.to_datetime(df_users['churn_date'], format=\"%Y-%m-%d\")"
      ]
    },
    {
      "cell_type": "markdown",
      "metadata": {
        "cellId": "tzn12edscis2la6nc098j",
        "id": "Pgh51l6Uuuzp"
      },
      "source": [
        "В таблицы **df_calls**, **df_internet**, **df_messages** добавим столбцы `month` — месяц"
      ]
    },
    {
      "cell_type": "code",
      "execution_count": null,
      "metadata": {
        "cellId": "fjpknllvhi6840hro8dvh7",
        "id": "ZsLoFHzHuuzp"
      },
      "outputs": [],
      "source": [
        "df_calls['month'] = df_calls['call_date'].astype('datetime64[M]')\n",
        "df_internet['month'] = df_internet['session_date'].astype('datetime64[M]')\n",
        "df_messages['month'] = df_messages['message_date'].astype('datetime64[M]')"
      ]
    },
    {
      "cell_type": "markdown",
      "metadata": {
        "cellId": "tdwzefnwx7as4ax0txmjjk",
        "id": "OYen49Bzuuzp"
      },
      "source": [
        "Округлим значения в столбце `duration`, таблицы **df_calls**, до целых минут в большую сторону, в соответствии с условиями компании"
      ]
    },
    {
      "cell_type": "code",
      "execution_count": null,
      "metadata": {
        "cellId": "veb0qs1dw4atlmyzmdeti",
        "id": "JEdJ4Raxuuzp"
      },
      "outputs": [],
      "source": [
        "df_calls['duration'] = np.ceil(df_calls['duration']).astype('int')"
      ]
    },
    {
      "cell_type": "markdown",
      "metadata": {
        "cellId": "d59v2kr3cvip81jtasgnji",
        "id": "noAGwmMTuuzp"
      },
      "source": [
        "### Подсчет данных"
      ]
    },
    {
      "cell_type": "markdown",
      "metadata": {
        "cellId": "9gyv6c9o5bqt5t410ixh99",
        "id": "vFYNYnyVuuzp"
      },
      "source": [
        "Посчитаем количество звонков для каждого пользователя по месяцам, создадим таблицу **calls_count**"
      ]
    },
    {
      "cell_type": "code",
      "execution_count": null,
      "metadata": {
        "cellId": "oc4vje2dlpemxhp3msc5m8",
        "id": "kR8WBpuBuuzp",
        "outputId": "00df3c26-adc4-4047-f1a3-894c07e496d1"
      },
      "outputs": [
        {
          "data": {
            "text/html": [
              "<div>\n",
              "<style scoped>\n",
              "    .dataframe tbody tr th:only-of-type {\n",
              "        vertical-align: middle;\n",
              "    }\n",
              "\n",
              "    .dataframe tbody tr th {\n",
              "        vertical-align: top;\n",
              "    }\n",
              "\n",
              "    .dataframe thead th {\n",
              "        text-align: right;\n",
              "    }\n",
              "</style>\n",
              "<table border=\"1\" class=\"dataframe\">\n",
              "  <thead>\n",
              "    <tr style=\"text-align: right;\">\n",
              "      <th></th>\n",
              "      <th></th>\n",
              "      <th>count</th>\n",
              "    </tr>\n",
              "    <tr>\n",
              "      <th>user_id</th>\n",
              "      <th>month</th>\n",
              "      <th></th>\n",
              "    </tr>\n",
              "  </thead>\n",
              "  <tbody>\n",
              "    <tr>\n",
              "      <td rowspan=\"5\" valign=\"top\">1000</td>\n",
              "      <td>2018-05-01</td>\n",
              "      <td>22</td>\n",
              "    </tr>\n",
              "    <tr>\n",
              "      <td>2018-06-01</td>\n",
              "      <td>43</td>\n",
              "    </tr>\n",
              "    <tr>\n",
              "      <td>2018-07-01</td>\n",
              "      <td>47</td>\n",
              "    </tr>\n",
              "    <tr>\n",
              "      <td>2018-08-01</td>\n",
              "      <td>52</td>\n",
              "    </tr>\n",
              "    <tr>\n",
              "      <td>2018-09-01</td>\n",
              "      <td>58</td>\n",
              "    </tr>\n",
              "    <tr>\n",
              "      <td>...</td>\n",
              "      <td>...</td>\n",
              "      <td>...</td>\n",
              "    </tr>\n",
              "    <tr>\n",
              "      <td>1498</td>\n",
              "      <td>2018-10-01</td>\n",
              "      <td>41</td>\n",
              "    </tr>\n",
              "    <tr>\n",
              "      <td rowspan=\"4\" valign=\"top\">1499</td>\n",
              "      <td>2018-09-01</td>\n",
              "      <td>9</td>\n",
              "    </tr>\n",
              "    <tr>\n",
              "      <td>2018-10-01</td>\n",
              "      <td>68</td>\n",
              "    </tr>\n",
              "    <tr>\n",
              "      <td>2018-11-01</td>\n",
              "      <td>74</td>\n",
              "    </tr>\n",
              "    <tr>\n",
              "      <td>2018-12-01</td>\n",
              "      <td>69</td>\n",
              "    </tr>\n",
              "  </tbody>\n",
              "</table>\n",
              "<p>3174 rows × 1 columns</p>\n",
              "</div>"
            ],
            "text/plain": [
              "                    count\n",
              "user_id month            \n",
              "1000    2018-05-01     22\n",
              "        2018-06-01     43\n",
              "        2018-07-01     47\n",
              "        2018-08-01     52\n",
              "        2018-09-01     58\n",
              "...                   ...\n",
              "1498    2018-10-01     41\n",
              "1499    2018-09-01      9\n",
              "        2018-10-01     68\n",
              "        2018-11-01     74\n",
              "        2018-12-01     69\n",
              "\n",
              "[3174 rows x 1 columns]"
            ]
          },
          "metadata": {},
          "output_type": "display_data"
        }
      ],
      "source": [
        "calls_count = df_calls.groupby(['user_id', 'month']).agg(count=('duration','count'))\n",
        "calls_count"
      ]
    },
    {
      "cell_type": "markdown",
      "metadata": {
        "cellId": "7uhzyehodl82odifebywnt",
        "id": "rw8bDK3auuzz"
      },
      "source": [
        "Посчитаем количество израсходованных минут разговора для каждого пользователя по месяцам, создадим таблицу **calls_sum**"
      ]
    },
    {
      "cell_type": "code",
      "execution_count": null,
      "metadata": {
        "cellId": "k4tkilo98mll2ste7e0pf",
        "id": "mZG8CEvsuuzz",
        "outputId": "b58fd3e6-cdb0-49af-dbdb-b8d75773b8c4"
      },
      "outputs": [
        {
          "data": {
            "text/html": [
              "<div>\n",
              "<style scoped>\n",
              "    .dataframe tbody tr th:only-of-type {\n",
              "        vertical-align: middle;\n",
              "    }\n",
              "\n",
              "    .dataframe tbody tr th {\n",
              "        vertical-align: top;\n",
              "    }\n",
              "\n",
              "    .dataframe thead th {\n",
              "        text-align: right;\n",
              "    }\n",
              "</style>\n",
              "<table border=\"1\" class=\"dataframe\">\n",
              "  <thead>\n",
              "    <tr style=\"text-align: right;\">\n",
              "      <th></th>\n",
              "      <th></th>\n",
              "      <th>min</th>\n",
              "    </tr>\n",
              "    <tr>\n",
              "      <th>user_id</th>\n",
              "      <th>month</th>\n",
              "      <th></th>\n",
              "    </tr>\n",
              "  </thead>\n",
              "  <tbody>\n",
              "    <tr>\n",
              "      <td rowspan=\"5\" valign=\"top\">1000</td>\n",
              "      <td>2018-05-01</td>\n",
              "      <td>159</td>\n",
              "    </tr>\n",
              "    <tr>\n",
              "      <td>2018-06-01</td>\n",
              "      <td>172</td>\n",
              "    </tr>\n",
              "    <tr>\n",
              "      <td>2018-07-01</td>\n",
              "      <td>340</td>\n",
              "    </tr>\n",
              "    <tr>\n",
              "      <td>2018-08-01</td>\n",
              "      <td>408</td>\n",
              "    </tr>\n",
              "    <tr>\n",
              "      <td>2018-09-01</td>\n",
              "      <td>466</td>\n",
              "    </tr>\n",
              "    <tr>\n",
              "      <td>...</td>\n",
              "      <td>...</td>\n",
              "      <td>...</td>\n",
              "    </tr>\n",
              "    <tr>\n",
              "      <td>1498</td>\n",
              "      <td>2018-10-01</td>\n",
              "      <td>247</td>\n",
              "    </tr>\n",
              "    <tr>\n",
              "      <td rowspan=\"4\" valign=\"top\">1499</td>\n",
              "      <td>2018-09-01</td>\n",
              "      <td>70</td>\n",
              "    </tr>\n",
              "    <tr>\n",
              "      <td>2018-10-01</td>\n",
              "      <td>449</td>\n",
              "    </tr>\n",
              "    <tr>\n",
              "      <td>2018-11-01</td>\n",
              "      <td>612</td>\n",
              "    </tr>\n",
              "    <tr>\n",
              "      <td>2018-12-01</td>\n",
              "      <td>492</td>\n",
              "    </tr>\n",
              "  </tbody>\n",
              "</table>\n",
              "<p>3174 rows × 1 columns</p>\n",
              "</div>"
            ],
            "text/plain": [
              "                    min\n",
              "user_id month          \n",
              "1000    2018-05-01  159\n",
              "        2018-06-01  172\n",
              "        2018-07-01  340\n",
              "        2018-08-01  408\n",
              "        2018-09-01  466\n",
              "...                 ...\n",
              "1498    2018-10-01  247\n",
              "1499    2018-09-01   70\n",
              "        2018-10-01  449\n",
              "        2018-11-01  612\n",
              "        2018-12-01  492\n",
              "\n",
              "[3174 rows x 1 columns]"
            ]
          },
          "metadata": {},
          "output_type": "display_data"
        }
      ],
      "source": [
        "calls_sum = df_calls.groupby(['user_id', 'month']).agg(min=('duration','sum'))\n",
        "calls_sum"
      ]
    },
    {
      "cell_type": "markdown",
      "metadata": {
        "cellId": "ehqxuka92hfhsqlwf3m276",
        "id": "nloDdDKAuuzz"
      },
      "source": [
        "Посчитаем количество отправленных сообщений для каждого пользователя по месяцам, создадим таблицу **messages_count**"
      ]
    },
    {
      "cell_type": "code",
      "execution_count": null,
      "metadata": {
        "cellId": "ihqnp1b578ipnort0me3s",
        "id": "76KGZz35uuzz",
        "outputId": "d93f9196-8683-436e-81ef-a1cdb128b74b"
      },
      "outputs": [
        {
          "data": {
            "text/html": [
              "<div>\n",
              "<style scoped>\n",
              "    .dataframe tbody tr th:only-of-type {\n",
              "        vertical-align: middle;\n",
              "    }\n",
              "\n",
              "    .dataframe tbody tr th {\n",
              "        vertical-align: top;\n",
              "    }\n",
              "\n",
              "    .dataframe thead th {\n",
              "        text-align: right;\n",
              "    }\n",
              "</style>\n",
              "<table border=\"1\" class=\"dataframe\">\n",
              "  <thead>\n",
              "    <tr style=\"text-align: right;\">\n",
              "      <th></th>\n",
              "      <th></th>\n",
              "      <th>sms</th>\n",
              "    </tr>\n",
              "    <tr>\n",
              "      <th>user_id</th>\n",
              "      <th>month</th>\n",
              "      <th></th>\n",
              "    </tr>\n",
              "  </thead>\n",
              "  <tbody>\n",
              "    <tr>\n",
              "      <td rowspan=\"5\" valign=\"top\">1000</td>\n",
              "      <td>2018-05-01</td>\n",
              "      <td>22</td>\n",
              "    </tr>\n",
              "    <tr>\n",
              "      <td>2018-06-01</td>\n",
              "      <td>60</td>\n",
              "    </tr>\n",
              "    <tr>\n",
              "      <td>2018-07-01</td>\n",
              "      <td>75</td>\n",
              "    </tr>\n",
              "    <tr>\n",
              "      <td>2018-08-01</td>\n",
              "      <td>81</td>\n",
              "    </tr>\n",
              "    <tr>\n",
              "      <td>2018-09-01</td>\n",
              "      <td>57</td>\n",
              "    </tr>\n",
              "    <tr>\n",
              "      <td>...</td>\n",
              "      <td>...</td>\n",
              "      <td>...</td>\n",
              "    </tr>\n",
              "    <tr>\n",
              "      <td>1498</td>\n",
              "      <td>2018-10-01</td>\n",
              "      <td>42</td>\n",
              "    </tr>\n",
              "    <tr>\n",
              "      <td rowspan=\"4\" valign=\"top\">1499</td>\n",
              "      <td>2018-09-01</td>\n",
              "      <td>11</td>\n",
              "    </tr>\n",
              "    <tr>\n",
              "      <td>2018-10-01</td>\n",
              "      <td>48</td>\n",
              "    </tr>\n",
              "    <tr>\n",
              "      <td>2018-11-01</td>\n",
              "      <td>59</td>\n",
              "    </tr>\n",
              "    <tr>\n",
              "      <td>2018-12-01</td>\n",
              "      <td>66</td>\n",
              "    </tr>\n",
              "  </tbody>\n",
              "</table>\n",
              "<p>2717 rows × 1 columns</p>\n",
              "</div>"
            ],
            "text/plain": [
              "                    sms\n",
              "user_id month          \n",
              "1000    2018-05-01   22\n",
              "        2018-06-01   60\n",
              "        2018-07-01   75\n",
              "        2018-08-01   81\n",
              "        2018-09-01   57\n",
              "...                 ...\n",
              "1498    2018-10-01   42\n",
              "1499    2018-09-01   11\n",
              "        2018-10-01   48\n",
              "        2018-11-01   59\n",
              "        2018-12-01   66\n",
              "\n",
              "[2717 rows x 1 columns]"
            ]
          },
          "metadata": {},
          "output_type": "display_data"
        }
      ],
      "source": [
        "messages_count = df_messages.groupby(['user_id', 'month']).agg(sms=('id','count'))\n",
        "messages_count"
      ]
    },
    {
      "cell_type": "markdown",
      "metadata": {
        "cellId": "zj50mccb6obcuybahm084c",
        "id": "TjreIrd4uuzz"
      },
      "source": [
        "Посчитаем объем израсходованного интернет-трафика для каждого пользователя по месяцам, создадим таблицу **internet_volume**"
      ]
    },
    {
      "cell_type": "code",
      "execution_count": null,
      "metadata": {
        "cellId": "f4vxaphqiwntoz0xbc7nzg",
        "id": "EiASKAWHuuzz"
      },
      "outputs": [],
      "source": [
        "internet_volume = df_internet.groupby(['user_id', 'month']).agg({'mb_used': 'sum'})"
      ]
    },
    {
      "cell_type": "markdown",
      "metadata": {
        "cellId": "ugwl5qlmd5q4axy6b4k7",
        "id": "1yepAoFruuzz"
      },
      "source": [
        "Сумму мегабайт переведем в сумму гигабайт и округлим в большую сторону, в соответствии с условиями компании"
      ]
    },
    {
      "cell_type": "code",
      "execution_count": null,
      "metadata": {
        "cellId": "9zj2vew6io9q0bsdoka2y",
        "id": "-h-Vr-lAuuzz",
        "outputId": "5eab77d4-8ed7-43c7-dbe0-690823cc98e7"
      },
      "outputs": [
        {
          "data": {
            "text/html": [
              "<div>\n",
              "<style scoped>\n",
              "    .dataframe tbody tr th:only-of-type {\n",
              "        vertical-align: middle;\n",
              "    }\n",
              "\n",
              "    .dataframe tbody tr th {\n",
              "        vertical-align: top;\n",
              "    }\n",
              "\n",
              "    .dataframe thead th {\n",
              "        text-align: right;\n",
              "    }\n",
              "</style>\n",
              "<table border=\"1\" class=\"dataframe\">\n",
              "  <thead>\n",
              "    <tr style=\"text-align: right;\">\n",
              "      <th></th>\n",
              "      <th></th>\n",
              "      <th>gb</th>\n",
              "    </tr>\n",
              "    <tr>\n",
              "      <th>user_id</th>\n",
              "      <th>month</th>\n",
              "      <th></th>\n",
              "    </tr>\n",
              "  </thead>\n",
              "  <tbody>\n",
              "    <tr>\n",
              "      <td rowspan=\"5\" valign=\"top\">1000</td>\n",
              "      <td>2018-05-01</td>\n",
              "      <td>3</td>\n",
              "    </tr>\n",
              "    <tr>\n",
              "      <td>2018-06-01</td>\n",
              "      <td>23</td>\n",
              "    </tr>\n",
              "    <tr>\n",
              "      <td>2018-07-01</td>\n",
              "      <td>14</td>\n",
              "    </tr>\n",
              "    <tr>\n",
              "      <td>2018-08-01</td>\n",
              "      <td>14</td>\n",
              "    </tr>\n",
              "    <tr>\n",
              "      <td>2018-09-01</td>\n",
              "      <td>15</td>\n",
              "    </tr>\n",
              "    <tr>\n",
              "      <td>...</td>\n",
              "      <td>...</td>\n",
              "      <td>...</td>\n",
              "    </tr>\n",
              "    <tr>\n",
              "      <td>1498</td>\n",
              "      <td>2018-10-01</td>\n",
              "      <td>21</td>\n",
              "    </tr>\n",
              "    <tr>\n",
              "      <td rowspan=\"4\" valign=\"top\">1499</td>\n",
              "      <td>2018-09-01</td>\n",
              "      <td>2</td>\n",
              "    </tr>\n",
              "    <tr>\n",
              "      <td>2018-10-01</td>\n",
              "      <td>18</td>\n",
              "    </tr>\n",
              "    <tr>\n",
              "      <td>2018-11-01</td>\n",
              "      <td>18</td>\n",
              "    </tr>\n",
              "    <tr>\n",
              "      <td>2018-12-01</td>\n",
              "      <td>13</td>\n",
              "    </tr>\n",
              "  </tbody>\n",
              "</table>\n",
              "<p>3203 rows × 1 columns</p>\n",
              "</div>"
            ],
            "text/plain": [
              "                    gb\n",
              "user_id month         \n",
              "1000    2018-05-01   3\n",
              "        2018-06-01  23\n",
              "        2018-07-01  14\n",
              "        2018-08-01  14\n",
              "        2018-09-01  15\n",
              "...                 ..\n",
              "1498    2018-10-01  21\n",
              "1499    2018-09-01   2\n",
              "        2018-10-01  18\n",
              "        2018-11-01  18\n",
              "        2018-12-01  13\n",
              "\n",
              "[3203 rows x 1 columns]"
            ]
          },
          "metadata": {},
          "output_type": "display_data"
        }
      ],
      "source": [
        "mb_in_gb = 1024\n",
        "internet_volume = internet_volume / mb_in_gb\n",
        "internet_volume = np.ceil(internet_volume).astype('int')\n",
        "internet_volume.columns = ['gb']\n",
        "internet_volume"
      ]
    },
    {
      "cell_type": "markdown",
      "metadata": {
        "cellId": "0575hk4o3tu3rccypxjv13c",
        "id": "HudCRmJ8uuzz"
      },
      "source": [
        "Посчитаем выручку с каждого пользователя, для этого создадим сводную таблицу **users** по пользователям с названием тарифа и городом проживания"
      ]
    },
    {
      "cell_type": "code",
      "execution_count": null,
      "metadata": {
        "cellId": "5k8iz05bfi4rwbk3m0c1bk",
        "id": "RUuwSJ3Cuuzz",
        "outputId": "7147a0e5-26f4-466f-f8b0-1c4ae1771421"
      },
      "outputs": [
        {
          "data": {
            "text/html": [
              "<div>\n",
              "<style scoped>\n",
              "    .dataframe tbody tr th:only-of-type {\n",
              "        vertical-align: middle;\n",
              "    }\n",
              "\n",
              "    .dataframe tbody tr th {\n",
              "        vertical-align: top;\n",
              "    }\n",
              "\n",
              "    .dataframe thead th {\n",
              "        text-align: right;\n",
              "    }\n",
              "</style>\n",
              "<table border=\"1\" class=\"dataframe\">\n",
              "  <thead>\n",
              "    <tr style=\"text-align: right;\">\n",
              "      <th></th>\n",
              "      <th>user_id</th>\n",
              "      <th>tariff</th>\n",
              "      <th>city</th>\n",
              "    </tr>\n",
              "  </thead>\n",
              "  <tbody>\n",
              "    <tr>\n",
              "      <td>0</td>\n",
              "      <td>1000</td>\n",
              "      <td>ultra</td>\n",
              "      <td>Краснодар</td>\n",
              "    </tr>\n",
              "    <tr>\n",
              "      <td>1</td>\n",
              "      <td>1001</td>\n",
              "      <td>smart</td>\n",
              "      <td>Москва</td>\n",
              "    </tr>\n",
              "    <tr>\n",
              "      <td>2</td>\n",
              "      <td>1002</td>\n",
              "      <td>smart</td>\n",
              "      <td>Стерлитамак</td>\n",
              "    </tr>\n",
              "    <tr>\n",
              "      <td>3</td>\n",
              "      <td>1003</td>\n",
              "      <td>ultra</td>\n",
              "      <td>Москва</td>\n",
              "    </tr>\n",
              "    <tr>\n",
              "      <td>4</td>\n",
              "      <td>1004</td>\n",
              "      <td>ultra</td>\n",
              "      <td>Новокузнецк</td>\n",
              "    </tr>\n",
              "    <tr>\n",
              "      <td>...</td>\n",
              "      <td>...</td>\n",
              "      <td>...</td>\n",
              "      <td>...</td>\n",
              "    </tr>\n",
              "    <tr>\n",
              "      <td>495</td>\n",
              "      <td>1495</td>\n",
              "      <td>ultra</td>\n",
              "      <td>Иркутск</td>\n",
              "    </tr>\n",
              "    <tr>\n",
              "      <td>496</td>\n",
              "      <td>1496</td>\n",
              "      <td>smart</td>\n",
              "      <td>Вологда</td>\n",
              "    </tr>\n",
              "    <tr>\n",
              "      <td>497</td>\n",
              "      <td>1497</td>\n",
              "      <td>smart</td>\n",
              "      <td>Челябинск</td>\n",
              "    </tr>\n",
              "    <tr>\n",
              "      <td>498</td>\n",
              "      <td>1498</td>\n",
              "      <td>smart</td>\n",
              "      <td>Владикавказ</td>\n",
              "    </tr>\n",
              "    <tr>\n",
              "      <td>499</td>\n",
              "      <td>1499</td>\n",
              "      <td>smart</td>\n",
              "      <td>Пермь</td>\n",
              "    </tr>\n",
              "  </tbody>\n",
              "</table>\n",
              "<p>500 rows × 3 columns</p>\n",
              "</div>"
            ],
            "text/plain": [
              "     user_id tariff         city\n",
              "0       1000  ultra    Краснодар\n",
              "1       1001  smart       Москва\n",
              "2       1002  smart  Стерлитамак\n",
              "3       1003  ultra       Москва\n",
              "4       1004  ultra  Новокузнецк\n",
              "..       ...    ...          ...\n",
              "495     1495  ultra      Иркутск\n",
              "496     1496  smart      Вологда\n",
              "497     1497  smart    Челябинск\n",
              "498     1498  smart  Владикавказ\n",
              "499     1499  smart        Пермь\n",
              "\n",
              "[500 rows x 3 columns]"
            ]
          },
          "metadata": {},
          "output_type": "display_data"
        }
      ],
      "source": [
        "users = df_users[['user_id','tariff','city']]\n",
        "users"
      ]
    },
    {
      "cell_type": "markdown",
      "metadata": {
        "cellId": "c0gzl73hn5mhnkpttjjbi",
        "id": "WyJRcJNWuuzz"
      },
      "source": [
        "Далее объединим выше полученные таблицы по пользователям и месяцам, в общую таблицу **df**"
      ]
    },
    {
      "cell_type": "code",
      "execution_count": null,
      "metadata": {
        "cellId": "ya5ybhqubj68f02r0b70i",
        "id": "5D015_3Fuuz9",
        "outputId": "fa2d2004-5722-4dd4-a128-3bcd3c20807b"
      },
      "outputs": [
        {
          "data": {
            "text/html": [
              "<div>\n",
              "<style scoped>\n",
              "    .dataframe tbody tr th:only-of-type {\n",
              "        vertical-align: middle;\n",
              "    }\n",
              "\n",
              "    .dataframe tbody tr th {\n",
              "        vertical-align: top;\n",
              "    }\n",
              "\n",
              "    .dataframe thead th {\n",
              "        text-align: right;\n",
              "    }\n",
              "</style>\n",
              "<table border=\"1\" class=\"dataframe\">\n",
              "  <thead>\n",
              "    <tr style=\"text-align: right;\">\n",
              "      <th></th>\n",
              "      <th>user_id</th>\n",
              "      <th>month</th>\n",
              "      <th>min</th>\n",
              "      <th>sms</th>\n",
              "      <th>gb</th>\n",
              "      <th>tariff</th>\n",
              "      <th>city</th>\n",
              "    </tr>\n",
              "  </thead>\n",
              "  <tbody>\n",
              "    <tr>\n",
              "      <td>0</td>\n",
              "      <td>1000</td>\n",
              "      <td>2018-05-01</td>\n",
              "      <td>159.0</td>\n",
              "      <td>22.0</td>\n",
              "      <td>3.0</td>\n",
              "      <td>ultra</td>\n",
              "      <td>Краснодар</td>\n",
              "    </tr>\n",
              "    <tr>\n",
              "      <td>1</td>\n",
              "      <td>1000</td>\n",
              "      <td>2018-06-01</td>\n",
              "      <td>172.0</td>\n",
              "      <td>60.0</td>\n",
              "      <td>23.0</td>\n",
              "      <td>ultra</td>\n",
              "      <td>Краснодар</td>\n",
              "    </tr>\n",
              "    <tr>\n",
              "      <td>2</td>\n",
              "      <td>1000</td>\n",
              "      <td>2018-07-01</td>\n",
              "      <td>340.0</td>\n",
              "      <td>75.0</td>\n",
              "      <td>14.0</td>\n",
              "      <td>ultra</td>\n",
              "      <td>Краснодар</td>\n",
              "    </tr>\n",
              "    <tr>\n",
              "      <td>3</td>\n",
              "      <td>1000</td>\n",
              "      <td>2018-08-01</td>\n",
              "      <td>408.0</td>\n",
              "      <td>81.0</td>\n",
              "      <td>14.0</td>\n",
              "      <td>ultra</td>\n",
              "      <td>Краснодар</td>\n",
              "    </tr>\n",
              "    <tr>\n",
              "      <td>4</td>\n",
              "      <td>1000</td>\n",
              "      <td>2018-09-01</td>\n",
              "      <td>466.0</td>\n",
              "      <td>57.0</td>\n",
              "      <td>15.0</td>\n",
              "      <td>ultra</td>\n",
              "      <td>Краснодар</td>\n",
              "    </tr>\n",
              "  </tbody>\n",
              "</table>\n",
              "</div>"
            ],
            "text/plain": [
              "   user_id      month    min   sms    gb tariff       city\n",
              "0     1000 2018-05-01  159.0  22.0   3.0  ultra  Краснодар\n",
              "1     1000 2018-06-01  172.0  60.0  23.0  ultra  Краснодар\n",
              "2     1000 2018-07-01  340.0  75.0  14.0  ultra  Краснодар\n",
              "3     1000 2018-08-01  408.0  81.0  14.0  ultra  Краснодар\n",
              "4     1000 2018-09-01  466.0  57.0  15.0  ultra  Краснодар"
            ]
          },
          "metadata": {},
          "output_type": "display_data"
        }
      ],
      "source": [
        "calls_sum = calls_sum.reset_index()\n",
        "messages_count = messages_count.reset_index()\n",
        "internet_volume = internet_volume.reset_index()\n",
        "\n",
        "df = calls_sum.merge(messages_count, on=['user_id', 'month'], how='outer')\n",
        "df = df.merge(internet_volume, on=['user_id', 'month'], how='outer')\n",
        "df = df.merge(users, on=['user_id'], how='left')\n",
        "\n",
        "df.head()"
      ]
    },
    {
      "cell_type": "markdown",
      "metadata": {
        "cellId": "cqyjjrc07sejdmq15nb3q",
        "id": "laZCL03Suuz-"
      },
      "source": [
        "Посчитаем перерасход мин, смс, гб и добавим в столбцы `over_min`, `over_sms`, `over_gb`"
      ]
    },
    {
      "cell_type": "code",
      "execution_count": null,
      "metadata": {
        "cellId": "n3j31uhs44jqkvmzdofsg",
        "id": "v-SZ2Oznuuz-"
      },
      "outputs": [],
      "source": [
        "def over_min(df):\n",
        "    if df['tariff'] == 'smart':\n",
        "        return df['min'] - df_tariffs.loc[df['tariff'], 'minutes_included']\n",
        "    elif df['tariff'] == 'ultra':\n",
        "        return df['min'] - df_tariffs.loc[df['tariff'], 'minutes_included']\n",
        "\n",
        "df['over_min'] = df.apply(over_min, axis = 1)\n",
        "\n",
        "def over_sms(df):\n",
        "    if df['tariff'] == 'smart':\n",
        "        return df['sms'] - df_tariffs.loc[df['tariff'], 'messages_included']\n",
        "    elif df['tariff'] == 'ultra':\n",
        "        return df['sms'] - df_tariffs.loc[df['tariff'], 'messages_included']\n",
        "\n",
        "df['over_sms'] = df.apply(over_sms, axis = 1)\n",
        "\n",
        "def over_gb(df):\n",
        "    if df['tariff'] == 'smart':\n",
        "        return df['gb'] - df_tariffs.loc[df['tariff'], 'mb_per_month_included'] / mb_in_gb\n",
        "    elif df['tariff'] == 'ultra':\n",
        "        return df['gb'] - df_tariffs.loc[df['tariff'], 'mb_per_month_included'] / mb_in_gb\n",
        "\n",
        "df['over_gb'] = df.apply(over_gb, axis = 1)"
      ]
    },
    {
      "cell_type": "markdown",
      "metadata": {
        "cellId": "hbdmeokrtg53pcvnun7rl",
        "id": "-oKOZdSZuu0E"
      },
      "source": [
        "Пропуски в таблице **df** заменим на ноль и приведем данные к целочисленному типу"
      ]
    },
    {
      "cell_type": "code",
      "execution_count": null,
      "metadata": {
        "cellId": "m145nmzq7klzemplufpnf",
        "id": "qv6qLaAVuu0E",
        "outputId": "607f4919-f662-49d5-e6b4-88c256ec3a39"
      },
      "outputs": [
        {
          "data": {
            "text/html": [
              "<div>\n",
              "<style scoped>\n",
              "    .dataframe tbody tr th:only-of-type {\n",
              "        vertical-align: middle;\n",
              "    }\n",
              "\n",
              "    .dataframe tbody tr th {\n",
              "        vertical-align: top;\n",
              "    }\n",
              "\n",
              "    .dataframe thead th {\n",
              "        text-align: right;\n",
              "    }\n",
              "</style>\n",
              "<table border=\"1\" class=\"dataframe\">\n",
              "  <thead>\n",
              "    <tr style=\"text-align: right;\">\n",
              "      <th></th>\n",
              "      <th>user_id</th>\n",
              "      <th>month</th>\n",
              "      <th>min</th>\n",
              "      <th>sms</th>\n",
              "      <th>gb</th>\n",
              "      <th>tariff</th>\n",
              "      <th>city</th>\n",
              "      <th>over_min</th>\n",
              "      <th>over_sms</th>\n",
              "      <th>over_gb</th>\n",
              "    </tr>\n",
              "  </thead>\n",
              "  <tbody>\n",
              "    <tr>\n",
              "      <td>0</td>\n",
              "      <td>1000</td>\n",
              "      <td>2018-05-01</td>\n",
              "      <td>159</td>\n",
              "      <td>22</td>\n",
              "      <td>3</td>\n",
              "      <td>ultra</td>\n",
              "      <td>Краснодар</td>\n",
              "      <td>-2841</td>\n",
              "      <td>-978</td>\n",
              "      <td>-27</td>\n",
              "    </tr>\n",
              "    <tr>\n",
              "      <td>1</td>\n",
              "      <td>1000</td>\n",
              "      <td>2018-06-01</td>\n",
              "      <td>172</td>\n",
              "      <td>60</td>\n",
              "      <td>23</td>\n",
              "      <td>ultra</td>\n",
              "      <td>Краснодар</td>\n",
              "      <td>-2828</td>\n",
              "      <td>-940</td>\n",
              "      <td>-7</td>\n",
              "    </tr>\n",
              "    <tr>\n",
              "      <td>2</td>\n",
              "      <td>1000</td>\n",
              "      <td>2018-07-01</td>\n",
              "      <td>340</td>\n",
              "      <td>75</td>\n",
              "      <td>14</td>\n",
              "      <td>ultra</td>\n",
              "      <td>Краснодар</td>\n",
              "      <td>-2660</td>\n",
              "      <td>-925</td>\n",
              "      <td>-16</td>\n",
              "    </tr>\n",
              "    <tr>\n",
              "      <td>3</td>\n",
              "      <td>1000</td>\n",
              "      <td>2018-08-01</td>\n",
              "      <td>408</td>\n",
              "      <td>81</td>\n",
              "      <td>14</td>\n",
              "      <td>ultra</td>\n",
              "      <td>Краснодар</td>\n",
              "      <td>-2592</td>\n",
              "      <td>-919</td>\n",
              "      <td>-16</td>\n",
              "    </tr>\n",
              "    <tr>\n",
              "      <td>4</td>\n",
              "      <td>1000</td>\n",
              "      <td>2018-09-01</td>\n",
              "      <td>466</td>\n",
              "      <td>57</td>\n",
              "      <td>15</td>\n",
              "      <td>ultra</td>\n",
              "      <td>Краснодар</td>\n",
              "      <td>-2534</td>\n",
              "      <td>-943</td>\n",
              "      <td>-15</td>\n",
              "    </tr>\n",
              "  </tbody>\n",
              "</table>\n",
              "</div>"
            ],
            "text/plain": [
              "   user_id      month  min  sms  gb tariff       city  over_min  over_sms  \\\n",
              "0     1000 2018-05-01  159   22   3  ultra  Краснодар     -2841      -978   \n",
              "1     1000 2018-06-01  172   60  23  ultra  Краснодар     -2828      -940   \n",
              "2     1000 2018-07-01  340   75  14  ultra  Краснодар     -2660      -925   \n",
              "3     1000 2018-08-01  408   81  14  ultra  Краснодар     -2592      -919   \n",
              "4     1000 2018-09-01  466   57  15  ultra  Краснодар     -2534      -943   \n",
              "\n",
              "   over_gb  \n",
              "0      -27  \n",
              "1       -7  \n",
              "2      -16  \n",
              "3      -16  \n",
              "4      -15  "
            ]
          },
          "metadata": {},
          "output_type": "display_data"
        }
      ],
      "source": [
        "df[['min', 'sms', 'gb', 'over_min', 'over_sms','over_gb']\n",
        "  ] = df[['min', 'sms', 'gb', 'over_min', 'over_sms', 'over_gb']].fillna(0).astype('int')\n",
        "df.head()"
      ]
    },
    {
      "cell_type": "markdown",
      "metadata": {
        "cellId": "o4aswdgal698ur8h5959",
        "id": "73kWs6iIuu0E"
      },
      "source": [
        "Посчитаем выручку с каждого пользователя по месяцам и запишем ее в столбец `revenue`, таблицы **df**"
      ]
    },
    {
      "cell_type": "code",
      "execution_count": null,
      "metadata": {
        "cellId": "teynqiglu6ort87q2onx",
        "id": "ui4LUJuOuu0E"
      },
      "outputs": [],
      "source": [
        ""
      ]
    },
    {
      "cell_type": "code",
      "execution_count": null,
      "metadata": {
        "cellId": "xiqmngb5luz37183gq5ld",
        "id": "EUP8PDzmuu0E"
      },
      "outputs": [],
      "source": [
        "def revenue(df):\n",
        "    revenue_min = 0\n",
        "    revenue_sms = 0\n",
        "    revenue_gb = 0\n",
        "    \n",
        "    if df['tariff'] == 'smart':\n",
        "        if df['over_min'] > 0:\n",
        "            revenue_min = df['over_min'] * df_tariffs.loc[df['tariff'], 'rub_per_minute']\n",
        "        if df['over_sms'] > 0:\n",
        "            revenue_sms = df['over_sms'] * df_tariffs.loc[df['tariff'], 'rub_per_message']\n",
        "        if df['over_gb'] > 0:\n",
        "            revenue_gb = df['over_gb'] * df_tariffs.loc[df['tariff'], 'rub_per_gb']\n",
        "        return revenue_min + revenue_sms + revenue_gb + df_tariffs.loc[df['tariff'], 'rub_monthly_fee']\n",
        "    elif df['tariff'] == 'ultra':\n",
        "        if df['over_min'] > 0:\n",
        "            revenue_min = df['over_min'] * df_tariffs.loc[df['tariff'], 'rub_per_minute']\n",
        "        if df['over_sms'] > 0:\n",
        "            revenue_sms = df['over_sms'] * df_tariffs.loc[df['tariff'], 'rub_per_message']\n",
        "        if df['over_gb'] > 0:\n",
        "            revenue_gb = df['over_gb'] * df_tariffs.loc[df['tariff'], 'rub_per_gb']\n",
        "        return revenue_min + revenue_sms + revenue_gb + df_tariffs.loc[df['tariff'], 'rub_monthly_fee']\n",
        "    \n",
        "df['revenue'] = df.apply(revenue, axis = 1)"
      ]
    },
    {
      "cell_type": "code",
      "execution_count": null,
      "metadata": {
        "cellId": "pqqoegiaj7b1fnsraf92ek",
        "id": "p_yWoTIsuu0E",
        "outputId": "b832fc86-1d37-42a1-a64a-9e436b096d23"
      },
      "outputs": [
        {
          "data": {
            "text/html": [
              "<div>\n",
              "<style scoped>\n",
              "    .dataframe tbody tr th:only-of-type {\n",
              "        vertical-align: middle;\n",
              "    }\n",
              "\n",
              "    .dataframe tbody tr th {\n",
              "        vertical-align: top;\n",
              "    }\n",
              "\n",
              "    .dataframe thead th {\n",
              "        text-align: right;\n",
              "    }\n",
              "</style>\n",
              "<table border=\"1\" class=\"dataframe\">\n",
              "  <thead>\n",
              "    <tr style=\"text-align: right;\">\n",
              "      <th></th>\n",
              "      <th>user_id</th>\n",
              "      <th>month</th>\n",
              "      <th>min</th>\n",
              "      <th>sms</th>\n",
              "      <th>gb</th>\n",
              "      <th>tariff</th>\n",
              "      <th>city</th>\n",
              "      <th>over_min</th>\n",
              "      <th>over_sms</th>\n",
              "      <th>over_gb</th>\n",
              "      <th>revenue</th>\n",
              "    </tr>\n",
              "  </thead>\n",
              "  <tbody>\n",
              "    <tr>\n",
              "      <td>0</td>\n",
              "      <td>1000</td>\n",
              "      <td>2018-05-01</td>\n",
              "      <td>159</td>\n",
              "      <td>22</td>\n",
              "      <td>3</td>\n",
              "      <td>ultra</td>\n",
              "      <td>Краснодар</td>\n",
              "      <td>-2841</td>\n",
              "      <td>-978</td>\n",
              "      <td>-27</td>\n",
              "      <td>1950</td>\n",
              "    </tr>\n",
              "    <tr>\n",
              "      <td>1</td>\n",
              "      <td>1000</td>\n",
              "      <td>2018-06-01</td>\n",
              "      <td>172</td>\n",
              "      <td>60</td>\n",
              "      <td>23</td>\n",
              "      <td>ultra</td>\n",
              "      <td>Краснодар</td>\n",
              "      <td>-2828</td>\n",
              "      <td>-940</td>\n",
              "      <td>-7</td>\n",
              "      <td>1950</td>\n",
              "    </tr>\n",
              "    <tr>\n",
              "      <td>2</td>\n",
              "      <td>1000</td>\n",
              "      <td>2018-07-01</td>\n",
              "      <td>340</td>\n",
              "      <td>75</td>\n",
              "      <td>14</td>\n",
              "      <td>ultra</td>\n",
              "      <td>Краснодар</td>\n",
              "      <td>-2660</td>\n",
              "      <td>-925</td>\n",
              "      <td>-16</td>\n",
              "      <td>1950</td>\n",
              "    </tr>\n",
              "    <tr>\n",
              "      <td>3</td>\n",
              "      <td>1000</td>\n",
              "      <td>2018-08-01</td>\n",
              "      <td>408</td>\n",
              "      <td>81</td>\n",
              "      <td>14</td>\n",
              "      <td>ultra</td>\n",
              "      <td>Краснодар</td>\n",
              "      <td>-2592</td>\n",
              "      <td>-919</td>\n",
              "      <td>-16</td>\n",
              "      <td>1950</td>\n",
              "    </tr>\n",
              "    <tr>\n",
              "      <td>4</td>\n",
              "      <td>1000</td>\n",
              "      <td>2018-09-01</td>\n",
              "      <td>466</td>\n",
              "      <td>57</td>\n",
              "      <td>15</td>\n",
              "      <td>ultra</td>\n",
              "      <td>Краснодар</td>\n",
              "      <td>-2534</td>\n",
              "      <td>-943</td>\n",
              "      <td>-15</td>\n",
              "      <td>1950</td>\n",
              "    </tr>\n",
              "  </tbody>\n",
              "</table>\n",
              "</div>"
            ],
            "text/plain": [
              "   user_id      month  min  sms  gb tariff       city  over_min  over_sms  \\\n",
              "0     1000 2018-05-01  159   22   3  ultra  Краснодар     -2841      -978   \n",
              "1     1000 2018-06-01  172   60  23  ultra  Краснодар     -2828      -940   \n",
              "2     1000 2018-07-01  340   75  14  ultra  Краснодар     -2660      -925   \n",
              "3     1000 2018-08-01  408   81  14  ultra  Краснодар     -2592      -919   \n",
              "4     1000 2018-09-01  466   57  15  ultra  Краснодар     -2534      -943   \n",
              "\n",
              "   over_gb  revenue  \n",
              "0      -27     1950  \n",
              "1       -7     1950  \n",
              "2      -16     1950  \n",
              "3      -16     1950  \n",
              "4      -15     1950  "
            ]
          },
          "metadata": {},
          "output_type": "display_data"
        }
      ],
      "source": [
        "df.head()"
      ]
    },
    {
      "cell_type": "markdown",
      "metadata": {
        "cellId": "7j5vbeh7w57vyrquzslk6r",
        "id": "Ak2WjI8yuu0E"
      },
      "source": [
        "Для дальнейшего анализа добавим столбец `region` — регион, в котором значения значения в столбце `city` пользователей не из Москвы, заменим на значение \"другой регион\""
      ]
    },
    {
      "cell_type": "code",
      "execution_count": null,
      "metadata": {
        "cellId": "ej5qhhm7vykbg4be2bl05",
        "id": "ScdmNsThuu0E",
        "outputId": "1cfc1c0c-1ec4-4657-d88a-3f00809f852b"
      },
      "outputs": [
        {
          "data": {
            "text/html": [
              "<div>\n",
              "<style scoped>\n",
              "    .dataframe tbody tr th:only-of-type {\n",
              "        vertical-align: middle;\n",
              "    }\n",
              "\n",
              "    .dataframe tbody tr th {\n",
              "        vertical-align: top;\n",
              "    }\n",
              "\n",
              "    .dataframe thead th {\n",
              "        text-align: right;\n",
              "    }\n",
              "</style>\n",
              "<table border=\"1\" class=\"dataframe\">\n",
              "  <thead>\n",
              "    <tr style=\"text-align: right;\">\n",
              "      <th></th>\n",
              "      <th>user_id</th>\n",
              "      <th>month</th>\n",
              "      <th>min</th>\n",
              "      <th>sms</th>\n",
              "      <th>gb</th>\n",
              "      <th>tariff</th>\n",
              "      <th>city</th>\n",
              "      <th>over_min</th>\n",
              "      <th>over_sms</th>\n",
              "      <th>over_gb</th>\n",
              "      <th>revenue</th>\n",
              "      <th>region</th>\n",
              "    </tr>\n",
              "  </thead>\n",
              "  <tbody>\n",
              "    <tr>\n",
              "      <td>0</td>\n",
              "      <td>1000</td>\n",
              "      <td>2018-05-01</td>\n",
              "      <td>159</td>\n",
              "      <td>22</td>\n",
              "      <td>3</td>\n",
              "      <td>ultra</td>\n",
              "      <td>Краснодар</td>\n",
              "      <td>-2841</td>\n",
              "      <td>-978</td>\n",
              "      <td>-27</td>\n",
              "      <td>1950</td>\n",
              "      <td>другой регион</td>\n",
              "    </tr>\n",
              "    <tr>\n",
              "      <td>1</td>\n",
              "      <td>1000</td>\n",
              "      <td>2018-06-01</td>\n",
              "      <td>172</td>\n",
              "      <td>60</td>\n",
              "      <td>23</td>\n",
              "      <td>ultra</td>\n",
              "      <td>Краснодар</td>\n",
              "      <td>-2828</td>\n",
              "      <td>-940</td>\n",
              "      <td>-7</td>\n",
              "      <td>1950</td>\n",
              "      <td>другой регион</td>\n",
              "    </tr>\n",
              "    <tr>\n",
              "      <td>2</td>\n",
              "      <td>1000</td>\n",
              "      <td>2018-07-01</td>\n",
              "      <td>340</td>\n",
              "      <td>75</td>\n",
              "      <td>14</td>\n",
              "      <td>ultra</td>\n",
              "      <td>Краснодар</td>\n",
              "      <td>-2660</td>\n",
              "      <td>-925</td>\n",
              "      <td>-16</td>\n",
              "      <td>1950</td>\n",
              "      <td>другой регион</td>\n",
              "    </tr>\n",
              "    <tr>\n",
              "      <td>3</td>\n",
              "      <td>1000</td>\n",
              "      <td>2018-08-01</td>\n",
              "      <td>408</td>\n",
              "      <td>81</td>\n",
              "      <td>14</td>\n",
              "      <td>ultra</td>\n",
              "      <td>Краснодар</td>\n",
              "      <td>-2592</td>\n",
              "      <td>-919</td>\n",
              "      <td>-16</td>\n",
              "      <td>1950</td>\n",
              "      <td>другой регион</td>\n",
              "    </tr>\n",
              "    <tr>\n",
              "      <td>4</td>\n",
              "      <td>1000</td>\n",
              "      <td>2018-09-01</td>\n",
              "      <td>466</td>\n",
              "      <td>57</td>\n",
              "      <td>15</td>\n",
              "      <td>ultra</td>\n",
              "      <td>Краснодар</td>\n",
              "      <td>-2534</td>\n",
              "      <td>-943</td>\n",
              "      <td>-15</td>\n",
              "      <td>1950</td>\n",
              "      <td>другой регион</td>\n",
              "    </tr>\n",
              "  </tbody>\n",
              "</table>\n",
              "</div>"
            ],
            "text/plain": [
              "   user_id      month  min  sms  gb tariff       city  over_min  over_sms  \\\n",
              "0     1000 2018-05-01  159   22   3  ultra  Краснодар     -2841      -978   \n",
              "1     1000 2018-06-01  172   60  23  ultra  Краснодар     -2828      -940   \n",
              "2     1000 2018-07-01  340   75  14  ultra  Краснодар     -2660      -925   \n",
              "3     1000 2018-08-01  408   81  14  ultra  Краснодар     -2592      -919   \n",
              "4     1000 2018-09-01  466   57  15  ultra  Краснодар     -2534      -943   \n",
              "\n",
              "   over_gb  revenue         region  \n",
              "0      -27     1950  другой регион  \n",
              "1       -7     1950  другой регион  \n",
              "2      -16     1950  другой регион  \n",
              "3      -16     1950  другой регион  \n",
              "4      -15     1950  другой регион  "
            ]
          },
          "metadata": {},
          "output_type": "display_data"
        }
      ],
      "source": [
        "df['region'] = df['city'].where(df['city'] == 'Москва', 'другой регион')\n",
        "df.head()"
      ]
    },
    {
      "cell_type": "markdown",
      "metadata": {
        "cellId": "8ni1xpum4bw380esh3lf5z",
        "id": "349rMG4Yuu0E"
      },
      "source": [
        "## 3. Анализ данных"
      ]
    },
    {
      "cell_type": "markdown",
      "metadata": {
        "cellId": "yqo03bqmrit6j3dgfkls",
        "id": "b6xUftYLuu0E"
      },
      "source": [
        "Посчитаем среднее количество минут, сообщений и гигабайт для пользователей каждого тарифа в месяц, а также медиану, дисперсию, и стандартное отклонение по каждому тарифу, создадим таблицу **average_tariff**"
      ]
    },
    {
      "cell_type": "code",
      "execution_count": null,
      "metadata": {
        "cellId": "4vul26uohqhs3d2mz51xr",
        "id": "8ksEhcUbuu0E",
        "outputId": "b9dcacbb-e120-4710-d97b-0703efd98567"
      },
      "outputs": [
        {
          "data": {
            "text/html": [
              "<div>\n",
              "<style scoped>\n",
              "    .dataframe tbody tr th:only-of-type {\n",
              "        vertical-align: middle;\n",
              "    }\n",
              "\n",
              "    .dataframe tbody tr th {\n",
              "        vertical-align: top;\n",
              "    }\n",
              "\n",
              "    .dataframe thead tr th {\n",
              "        text-align: left;\n",
              "    }\n",
              "\n",
              "    .dataframe thead tr:last-of-type th {\n",
              "        text-align: right;\n",
              "    }\n",
              "</style>\n",
              "<table border=\"1\" class=\"dataframe\">\n",
              "  <thead>\n",
              "    <tr>\n",
              "      <th></th>\n",
              "      <th colspan=\"3\" halign=\"left\">median</th>\n",
              "      <th colspan=\"3\" halign=\"left\">mean</th>\n",
              "      <th colspan=\"3\" halign=\"left\">var</th>\n",
              "      <th colspan=\"3\" halign=\"left\">std</th>\n",
              "    </tr>\n",
              "    <tr>\n",
              "      <th></th>\n",
              "      <th>gb</th>\n",
              "      <th>min</th>\n",
              "      <th>sms</th>\n",
              "      <th>gb</th>\n",
              "      <th>min</th>\n",
              "      <th>sms</th>\n",
              "      <th>gb</th>\n",
              "      <th>min</th>\n",
              "      <th>sms</th>\n",
              "      <th>gb</th>\n",
              "      <th>min</th>\n",
              "      <th>sms</th>\n",
              "    </tr>\n",
              "    <tr>\n",
              "      <th>tariff</th>\n",
              "      <th></th>\n",
              "      <th></th>\n",
              "      <th></th>\n",
              "      <th></th>\n",
              "      <th></th>\n",
              "      <th></th>\n",
              "      <th></th>\n",
              "      <th></th>\n",
              "      <th></th>\n",
              "      <th></th>\n",
              "      <th></th>\n",
              "      <th></th>\n",
              "    </tr>\n",
              "  </thead>\n",
              "  <tbody>\n",
              "    <tr>\n",
              "      <td>smart</td>\n",
              "      <td>17</td>\n",
              "      <td>422</td>\n",
              "      <td>28</td>\n",
              "      <td>16</td>\n",
              "      <td>418</td>\n",
              "      <td>33</td>\n",
              "      <td>33</td>\n",
              "      <td>36219</td>\n",
              "      <td>797</td>\n",
              "      <td>6</td>\n",
              "      <td>190</td>\n",
              "      <td>28</td>\n",
              "    </tr>\n",
              "    <tr>\n",
              "      <td>ultra</td>\n",
              "      <td>19</td>\n",
              "      <td>518</td>\n",
              "      <td>38</td>\n",
              "      <td>19</td>\n",
              "      <td>527</td>\n",
              "      <td>49</td>\n",
              "      <td>97</td>\n",
              "      <td>100874</td>\n",
              "      <td>2285</td>\n",
              "      <td>10</td>\n",
              "      <td>318</td>\n",
              "      <td>48</td>\n",
              "    </tr>\n",
              "  </tbody>\n",
              "</table>\n",
              "</div>"
            ],
            "text/plain": [
              "       median          mean          var               std         \n",
              "           gb  min sms   gb  min sms  gb     min   sms  gb  min sms\n",
              "tariff                                                             \n",
              "smart      17  422  28   16  418  33  33   36219   797   6  190  28\n",
              "ultra      19  518  38   19  527  49  97  100874  2285  10  318  48"
            ]
          },
          "metadata": {},
          "output_type": "display_data"
        }
      ],
      "source": [
        "average_tariff = df.pivot_table(index='tariff', values=['min', 'sms', 'gb'], aggfunc=['median', 'mean', np.var, np.std]).round().astype('int')\n",
        "average_tariff"
      ]
    },
    {
      "cell_type": "markdown",
      "metadata": {
        "cellId": "n8mpgs570a9hok7klzxn",
        "id": "mvwR2eoyuu0O"
      },
      "source": [
        "Построим гистограммы для минут, сообщений и гигабайт, по каждому тарифу"
      ]
    },
    {
      "cell_type": "code",
      "execution_count": null,
      "metadata": {
        "cellId": "xx2rnn279bpzi08pnajo",
        "id": "IVryRPcmuu0O",
        "outputId": "3be0f996-83cc-4e29-9106-6b6d7f3b32ac"
      },
      "outputs": [
        {
          "data": {
            "image/png": "[encoded data removed]",
            "text/plain": [
              "<Figure size 432x288 with 1 Axes>"
            ]
          },
          "metadata": {
            "needs_background": "light"
          },
          "output_type": "display_data"
        },
        {
          "data": {
            "image/png": "[encoded data removed]",
            "text/plain": [
              "<Figure size 432x288 with 1 Axes>"
            ]
          },
          "metadata": {
            "needs_background": "light"
          },
          "output_type": "display_data"
        },
        {
          "data": {
            "image/png": "[encoded data removed]",
            "text/plain": [
              "<Figure size 432x288 with 1 Axes>"
            ]
          },
          "metadata": {
            "needs_background": "light"
          },
          "output_type": "display_data"
        }
      ],
      "source": [
        "for name in ['min', 'sms', 'gb']:\n",
        "    ax = df.query('tariff == \"smart\"').plot(\n",
        "    kind='hist',\n",
        "    y=name,\n",
        "    bins=20,\n",
        "    alpha=0.7,\n",
        "    label='smart',\n",
        "    grid=True,\n",
        "    legend=True,\n",
        "    title=name,\n",
        "    )\n",
        "    df.query('tariff == \"ultra\"').plot(\n",
        "    kind='hist',\n",
        "    y=name,\n",
        "    bins=20,\n",
        "    alpha=0.7,\n",
        "    label='ultra',\n",
        "    ax=ax,\n",
        "    grid=True,\n",
        "    legend=True,\n",
        "    )"
      ]
    },
    {
      "cell_type": "markdown",
      "metadata": {
        "cellId": "90to76wmdnv6iflhs2hgpd",
        "id": "8qgIvS0Euu0O"
      },
      "source": [
        "Распределение количества минут и гигабайт по тарифу \"smart\" незначительно скошено влево, а по тарифу \"ultra\" — вправо, а распределения по количеству сообщений имеют вид распределения Пуассона и скошены вправо, причем по тарифу \"ultra\" немного больше. Дисперсии по тарифу \"ultra\" больше чем по тарифу \"smart\". Средние значения и медианы по тарифу \"ultra\" также больше чем по тарифу \"smart\". Все это говорит о том что пользователи тарифа \"ultra\" больше пользуются услугами сотовой связи, а пользователи тарифа \"smart\" — меньше. Пользователи тарифа \"smart\" вынуждены экономить на услугах связи и чаще доплачивать за дополнительные пакеты услуг."
      ]
    },
    {
      "cell_type": "markdown",
      "metadata": {
        "cellId": "yafrr94a3gc30hevkp3ce",
        "id": "VTgsZhNWuu0O"
      },
      "source": [
        "## 4. Проверка гипотез"
      ]
    },
    {
      "cell_type": "markdown",
      "metadata": {
        "cellId": "f4yq3j6viwexz9sd1nvz8i",
        "id": "WGtNgGPYuu0O"
      },
      "source": [
        "Проверим гипотезу — средняя выручка пользователей тарифов «Ультра» и «Смарт» различаются\\\n",
        "Нулевая гипотеза всегда формулируется так, чтобы использовать знак равенства\\\n",
        "Сформулируем гипотезы:\n",
        "- $H_0$ — средняя выручка пользователей тарифов «Ультра» и «Смарт» равны\n",
        "- $H_1$ — средняя выручка пользователей тарифов «Ультра» и «Смарт» различаются\n",
        "\n",
        "alpha = 0.05 — критический уровень статистической значимости"
      ]
    },
    {
      "cell_type": "markdown",
      "metadata": {
        "cellId": "th9j8rhx216u0bltg2v5c",
        "id": "b0qcN5utuu0O"
      },
      "source": [
        "Посмотрим среднее и дисперсию выручки по тарифам, создадим таблицу **average_revenue**"
      ]
    },
    {
      "cell_type": "code",
      "execution_count": null,
      "metadata": {
        "cellId": "0bwnbx0np86ed2igcxdj47p",
        "id": "yE88_d8wuu0O",
        "outputId": "60a2afa9-b19f-47e4-df0f-eeff5de79dcc"
      },
      "outputs": [
        {
          "data": {
            "text/html": [
              "<div>\n",
              "<style scoped>\n",
              "    .dataframe tbody tr th:only-of-type {\n",
              "        vertical-align: middle;\n",
              "    }\n",
              "\n",
              "    .dataframe tbody tr th {\n",
              "        vertical-align: top;\n",
              "    }\n",
              "\n",
              "    .dataframe thead tr th {\n",
              "        text-align: left;\n",
              "    }\n",
              "\n",
              "    .dataframe thead tr:last-of-type th {\n",
              "        text-align: right;\n",
              "    }\n",
              "</style>\n",
              "<table border=\"1\" class=\"dataframe\">\n",
              "  <thead>\n",
              "    <tr>\n",
              "      <th></th>\n",
              "      <th>median</th>\n",
              "      <th>mean</th>\n",
              "      <th>var</th>\n",
              "      <th>std</th>\n",
              "    </tr>\n",
              "    <tr>\n",
              "      <th></th>\n",
              "      <th>revenue</th>\n",
              "      <th>revenue</th>\n",
              "      <th>revenue</th>\n",
              "      <th>revenue</th>\n",
              "    </tr>\n",
              "    <tr>\n",
              "      <th>tariff</th>\n",
              "      <th></th>\n",
              "      <th></th>\n",
              "      <th></th>\n",
              "      <th></th>\n",
              "    </tr>\n",
              "  </thead>\n",
              "  <tbody>\n",
              "    <tr>\n",
              "      <td>smart</td>\n",
              "      <td>1023</td>\n",
              "      <td>1290</td>\n",
              "      <td>669786</td>\n",
              "      <td>818</td>\n",
              "    </tr>\n",
              "    <tr>\n",
              "      <td>ultra</td>\n",
              "      <td>1950</td>\n",
              "      <td>2070</td>\n",
              "      <td>141517</td>\n",
              "      <td>376</td>\n",
              "    </tr>\n",
              "  </tbody>\n",
              "</table>\n",
              "</div>"
            ],
            "text/plain": [
              "        median    mean     var     std\n",
              "       revenue revenue revenue revenue\n",
              "tariff                                \n",
              "smart     1023    1290  669786     818\n",
              "ultra     1950    2070  141517     376"
            ]
          },
          "metadata": {},
          "output_type": "display_data"
        }
      ],
      "source": [
        "average_revenue = df.pivot_table(index='tariff', values='revenue', aggfunc=['median', 'mean', np.var, np.std]).round().astype('int')\n",
        "average_revenue"
      ]
    },
    {
      "cell_type": "markdown",
      "metadata": {
        "cellId": "vi71ibd1yeg0jpv1zriidxg",
        "id": "dDMKA7fIuu0O"
      },
      "source": [
        "Средняя выручка по тарифу \"ultra\", больше чем по тарифу \"smart\""
      ]
    },
    {
      "cell_type": "code",
      "execution_count": null,
      "metadata": {
        "cellId": "v2rsj7ir3xorsetxsikaf",
        "id": "6fq1Na4guu0O",
        "outputId": "405ddae7-dd58-4204-d232-f15b92600c42"
      },
      "outputs": [
        {
          "data": {
            "image/png": "[encoded data removed]",
            "text/plain": [
              "<Figure size 432x288 with 1 Axes>"
            ]
          },
          "metadata": {
            "needs_background": "light"
          },
          "output_type": "display_data"
        }
      ],
      "source": [
        "ax = df.query('tariff == \"smart\"').plot(\n",
        "    kind='hist',\n",
        "    y='revenue',\n",
        "    bins=20,\n",
        "    alpha=0.5,\n",
        "    label='smart',\n",
        "    grid=True,\n",
        "    legend=True,\n",
        "    title=name,\n",
        ")\n",
        "df.query('tariff == \"ultra\"').plot(\n",
        "    kind='hist',\n",
        "    y='revenue',\n",
        "    bins=20,\n",
        "    alpha=0.8,\n",
        "    label='ultra',\n",
        "    ax=ax,\n",
        "    grid=True,\n",
        "    legend=True,\n",
        ");"
      ]
    },
    {
      "cell_type": "code",
      "execution_count": null,
      "metadata": {
        "cellId": "15powlweb6es901xhdfsdf",
        "id": "40jbXSJmuu0O",
        "outputId": "0779f8b8-9898-40e1-d88a-2196285e5fa1"
      },
      "outputs": [
        {
          "name": "stdout",
          "output_type": "stream",
          "text": [
            "p-значение: 4.2606313931076085e-250\n",
            "Отвергаем нулевую гипотезу\n"
          ]
        }
      ],
      "source": [
        "alpha = 0.05\n",
        "\n",
        "results = st.ttest_ind(df.query('tariff == \"smart\"')['revenue'], df.query('tariff == \"ultra\"')['revenue'], equal_var = False)\n",
        "\n",
        "print('p-значение:', results.pvalue)\n",
        "\n",
        "if (results.pvalue < alpha):\n",
        "    print(\"Отвергаем нулевую гипотезу\")\n",
        "else:\n",
        "    print(\"Не получилось отвергнуть нулевую гипотезу\")"
      ]
    },
    {
      "cell_type": "markdown",
      "metadata": {
        "cellId": "67107csizvxjwp2mzo4o2i",
        "id": "X1mP9MMduu0O"
      },
      "source": [
        "Cредняя выручка пользователей тарифов «Ультра» и «Смарт» различаются"
      ]
    },
    {
      "cell_type": "markdown",
      "metadata": {
        "cellId": "7ir0nxtlic96yeooer8bvj",
        "id": "V0ejdSu-uu0O"
      },
      "source": [
        "Проверим гипотезу — средняя выручка пользователей из Москвы отличается от выручки пользователей из других регионов\\\n",
        "Сформулируем гипотезы:\n",
        "- $H_0$ — средняя выручка пользователей из Москвы равна выручке пользователей из других регионов\n",
        "- $H_1$ — средняя выручка пользователей из Москвы отличается от выручки пользователей из других регионов\n",
        "\n",
        "alpha = 0.05 — критический уровень статистической значимости"
      ]
    },
    {
      "cell_type": "markdown",
      "metadata": {
        "cellId": "2gmo7jd187jceim52xj0p8",
        "id": "B9_grIxwuu0Y"
      },
      "source": [
        "Посмотрим среднее и дисперсию выручки по Москве и другим регионам, создадим таблицу **average_region**"
      ]
    },
    {
      "cell_type": "code",
      "execution_count": null,
      "metadata": {
        "cellId": "v3pzo8msbdis44nzlrtx9",
        "id": "q6Bzzmpkuu0Y",
        "outputId": "80d95288-3df4-4ca6-e719-1813378b30f1"
      },
      "outputs": [
        {
          "data": {
            "text/html": [
              "<div>\n",
              "<style scoped>\n",
              "    .dataframe tbody tr th:only-of-type {\n",
              "        vertical-align: middle;\n",
              "    }\n",
              "\n",
              "    .dataframe tbody tr th {\n",
              "        vertical-align: top;\n",
              "    }\n",
              "\n",
              "    .dataframe thead tr th {\n",
              "        text-align: left;\n",
              "    }\n",
              "\n",
              "    .dataframe thead tr:last-of-type th {\n",
              "        text-align: right;\n",
              "    }\n",
              "</style>\n",
              "<table border=\"1\" class=\"dataframe\">\n",
              "  <thead>\n",
              "    <tr>\n",
              "      <th></th>\n",
              "      <th>median</th>\n",
              "      <th>mean</th>\n",
              "      <th>var</th>\n",
              "      <th>std</th>\n",
              "    </tr>\n",
              "    <tr>\n",
              "      <th></th>\n",
              "      <th>revenue</th>\n",
              "      <th>revenue</th>\n",
              "      <th>revenue</th>\n",
              "      <th>revenue</th>\n",
              "    </tr>\n",
              "    <tr>\n",
              "      <th>region</th>\n",
              "      <th></th>\n",
              "      <th></th>\n",
              "      <th></th>\n",
              "      <th></th>\n",
              "    </tr>\n",
              "  </thead>\n",
              "  <tbody>\n",
              "    <tr>\n",
              "      <td>Москва</td>\n",
              "      <td>1750</td>\n",
              "      <td>1547</td>\n",
              "      <td>565636</td>\n",
              "      <td>752</td>\n",
              "    </tr>\n",
              "    <tr>\n",
              "      <td>другой регион</td>\n",
              "      <td>1583</td>\n",
              "      <td>1525</td>\n",
              "      <td>654138</td>\n",
              "      <td>809</td>\n",
              "    </tr>\n",
              "  </tbody>\n",
              "</table>\n",
              "</div>"
            ],
            "text/plain": [
              "               median    mean     var     std\n",
              "              revenue revenue revenue revenue\n",
              "region                                       \n",
              "Москва           1750    1547  565636     752\n",
              "другой регион    1583    1525  654138     809"
            ]
          },
          "metadata": {},
          "output_type": "display_data"
        }
      ],
      "source": [
        "average_region = df.pivot_table(index='region', values='revenue', aggfunc=['median', 'mean', np.var, np.std]).round().astype('int')\n",
        "average_region"
      ]
    },
    {
      "cell_type": "markdown",
      "metadata": {
        "cellId": "3z50st2ck2u1r54ycyt5bn",
        "id": "HNJ8NZj8uu0Y"
      },
      "source": [
        "- Средняя выручка пользователей из Москвы незначительно отличается от выручки пользователей из других регионов"
      ]
    },
    {
      "cell_type": "code",
      "execution_count": null,
      "metadata": {
        "cellId": "2kvsadsd6bpv9fnipjoysd",
        "id": "RkkCvqq2uu0Y",
        "outputId": "f6569a97-70f1-4803-ae0a-c2b774159cdb"
      },
      "outputs": [
        {
          "data": {
            "image/png": "[encoded data removed]",
            "text/plain": [
              "<Figure size 432x288 with 1 Axes>"
            ]
          },
          "metadata": {
            "needs_background": "light"
          },
          "output_type": "display_data"
        }
      ],
      "source": [
        "ax = df.query('region == \"Москва\"').plot(\n",
        "    kind='hist',\n",
        "    y='revenue',\n",
        "    bins=20,\n",
        "    alpha=1,\n",
        "    label='moscow',\n",
        "    grid=True,\n",
        "    legend=True,\n",
        "    title=name,\n",
        ")\n",
        "df.query('region == \"другой регион\"').plot(\n",
        "    kind='hist',\n",
        "    y='revenue',\n",
        "    bins=20,\n",
        "    alpha=0.4,\n",
        "    label='other_regions',\n",
        "    ax=ax,\n",
        "    grid=True,\n",
        "    legend=True,\n",
        ");"
      ]
    },
    {
      "cell_type": "code",
      "execution_count": null,
      "metadata": {
        "cellId": "gks49exls8qmxeazt95j",
        "id": "gaXUCd8cuu0Y",
        "outputId": "72a6dbbf-de68-4547-ee7b-e1378d117cff"
      },
      "outputs": [
        {
          "name": "stdout",
          "output_type": "stream",
          "text": [
            "p-значение: 0.5257376663729298\n",
            "Не получилось отвергнуть нулевую гипотезу\n"
          ]
        }
      ],
      "source": [
        "alpha = 0.05\n",
        "\n",
        "results = st.ttest_ind(df.query('region == \"Москва\"')['revenue'], df.query('region == \"другой регион\"')['revenue'], equal_var = False)\n",
        "\n",
        "print('p-значение:', results.pvalue)\n",
        "\n",
        "if (results.pvalue < alpha):\n",
        "    print(\"Отвергаем нулевую гипотезу\")\n",
        "else:\n",
        "    print(\"Не получилось отвергнуть нулевую гипотезу\")"
      ]
    },
    {
      "cell_type": "markdown",
      "metadata": {
        "cellId": "k5j3mbksn3uhdzhnz4rw",
        "id": "A_AIlFkQuu0Y"
      },
      "source": [
        "- Средняя выручка пользователей из Москвы равна выручке пользователей из других регионов"
      ]
    },
    {
      "cell_type": "markdown",
      "metadata": {
        "cellId": "ql6mwam3bbfpxkwyfr5qu",
        "id": "dEl0beXpuu0Y"
      },
      "source": [
        "## 5. Общий вывод"
      ]
    },
    {
      "cell_type": "markdown",
      "metadata": {
        "cellId": "bxt4zdq2g7rjy15w53plso",
        "id": "2R8Rz2eAuu0Y"
      },
      "source": [
        "- Cредняя выручка пользователей тарифа \"ultra\" больше чем тарифа \"smart\"\n",
        "- Средняя выручка пользователей из Москвы равна выручке пользователей из других регионов\n",
        "- Пользователи тарифа \"ultra\" больше пользуются услугами сотовой связи, а пользователи тарифа \"smart\" — меньше.\n",
        "- Пользователи тарифа \"smart\" вынуждены экономить на услугах связи и чаще доплачивать за дополнительные пакеты услуг.\n",
        "- Для компании тариф \"ultra\" кажется выгоднее, потому что статистически значимо приносит больше средней выручки и при этом, судя по гистограммам, пользователи \"ultra\" нагружают сеть оператора не намного сильнее, чем пользователи \"smart\", поэтому исходя из выручка / нагрузка тариф \"ultra\" кажется лучше"
      ]
    }
  ],
  "metadata": {
    "ExecuteTimeLog": [
      {
        "duration": 142,
        "start_time": "2022-01-17T15:53:16.762Z"
      }
    ],
    "kernelspec": {
      "display_name": "Python 3 (ipykernel)",
      "language": "python",
      "name": "python3"
    },
    "language_info": {
      "codemirror_mode": {
        "name": "ipython",
        "version": 3
      },
      "file_extension": ".py",
      "mimetype": "text/x-python",
      "name": "python",
      "nbconvert_exporter": "python",
      "pygments_lexer": "ipython3",
      "version": "3.9.5"
    },
    "notebookId": "f7112491-c839-432d-bec3-2f854d5b68c0",
    "notebookPath": "264b0e52-ee53-4b12-a9e0-a2024247e860.ipynb",
    "toc": {
      "base_numbering": 1,
      "nav_menu": {},
      "number_sections": true,
      "sideBar": true,
      "skip_h1_title": true,
      "title_cell": "Table of Contents",
      "title_sidebar": "Contents",
      "toc_cell": false,
      "toc_position": {},
      "toc_section_display": true,
      "toc_window_display": false
    },
    "colab": {
      "name": "determination_of_a_promising_tariff_for_a_telecom_company.ipynb",
      "provenance": []
    }
  },
  "nbformat": 4,
  "nbformat_minor": 0
}
